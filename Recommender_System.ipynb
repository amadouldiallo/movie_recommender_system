{
 "cells": [
  {
   "cell_type": "markdown",
   "id": "af11f104",
   "metadata": {
    "pycharm": {
     "name": "#%% md\n"
    }
   },
   "source": [
    "### Recommendation System"
   ]
  },
  {
   "cell_type": "markdown",
   "id": "ef124428",
   "metadata": {
    "pycharm": {
     "name": "#%% md\n"
    }
   },
   "source": [
    "### Datasets\n",
    "+ https://www.kaggle.com/datasets/tmdb/tmdb-movie-metadata?resource=download&select=tmdb_5000_movies.csv\n",
    "+ https://www.kaggle.com/datasets/tmdb/tmdb-movie-metadata?resource=download&select=tmdb_5000_credits.csv"
   ]
  },
  {
   "cell_type": "markdown",
   "id": "206e7880",
   "metadata": {
    "pycharm": {
     "name": "#%% md\n"
    }
   },
   "source": [
    "Imports packages"
   ]
  },
  {
   "cell_type": "code",
   "execution_count": 1,
   "id": "81784879",
   "metadata": {
    "pycharm": {
     "name": "#%%\n"
    }
   },
   "outputs": [],
   "source": [
    "import pandas as pd\n",
    "import numpy as np"
   ]
  },
  {
   "cell_type": "markdown",
   "id": "206569e5",
   "metadata": {
    "pycharm": {
     "name": "#%% md\n"
    }
   },
   "source": [
    "#### folder"
   ]
  },
  {
   "cell_type": "code",
   "execution_count": 6,
   "id": "710c96ff",
   "metadata": {
    "pycharm": {
     "name": "#%%\n"
    }
   },
   "outputs": [],
   "source": [
    "movies_path = \"./data/tmdb_5000_movies.csv\"\n",
    "credits_path = \"./data/tmdb_5000_credits.csv\""
   ]
  },
  {
   "cell_type": "markdown",
   "id": "3c1a1645",
   "metadata": {
    "pycharm": {
     "name": "#%% md\n"
    }
   },
   "source": [
    "#### Dataset movies"
   ]
  },
  {
   "cell_type": "code",
   "execution_count": 39,
   "id": "2b361f7a",
   "metadata": {
    "pycharm": {
     "name": "#%%\n"
    }
   },
   "outputs": [],
   "source": [
    "movies = pd.read_csv(movies_path)\n",
    "credits = pd.read_csv(credits_path)"
   ]
  },
  {
   "cell_type": "markdown",
   "id": "a0d43667",
   "metadata": {
    "pycharm": {
     "name": "#%% md\n"
    }
   },
   "source": [
    "#### heads "
   ]
  },
  {
   "cell_type": "code",
   "execution_count": 40,
   "id": "66702930",
   "metadata": {
    "pycharm": {
     "name": "#%%\n"
    }
   },
   "outputs": [
    {
     "data": {
      "text/html": [
       "<div>\n",
       "<style scoped>\n",
       "    .dataframe tbody tr th:only-of-type {\n",
       "        vertical-align: middle;\n",
       "    }\n",
       "\n",
       "    .dataframe tbody tr th {\n",
       "        vertical-align: top;\n",
       "    }\n",
       "\n",
       "    .dataframe thead th {\n",
       "        text-align: right;\n",
       "    }\n",
       "</style>\n",
       "<table border=\"1\" class=\"dataframe\">\n",
       "  <thead>\n",
       "    <tr style=\"text-align: right;\">\n",
       "      <th></th>\n",
       "      <th>budget</th>\n",
       "      <th>genres</th>\n",
       "      <th>homepage</th>\n",
       "      <th>id</th>\n",
       "      <th>keywords</th>\n",
       "      <th>original_language</th>\n",
       "      <th>original_title</th>\n",
       "      <th>overview</th>\n",
       "      <th>popularity</th>\n",
       "      <th>production_companies</th>\n",
       "      <th>production_countries</th>\n",
       "      <th>release_date</th>\n",
       "      <th>revenue</th>\n",
       "      <th>runtime</th>\n",
       "      <th>spoken_languages</th>\n",
       "      <th>status</th>\n",
       "      <th>tagline</th>\n",
       "      <th>title</th>\n",
       "      <th>vote_average</th>\n",
       "      <th>vote_count</th>\n",
       "    </tr>\n",
       "  </thead>\n",
       "  <tbody>\n",
       "    <tr>\n",
       "      <th>0</th>\n",
       "      <td>237000000</td>\n",
       "      <td>[{\"id\": 28, \"name\": \"Action\"}, {\"id\": 12, \"nam...</td>\n",
       "      <td>http://www.avatarmovie.com/</td>\n",
       "      <td>19995</td>\n",
       "      <td>[{\"id\": 1463, \"name\": \"culture clash\"}, {\"id\":...</td>\n",
       "      <td>en</td>\n",
       "      <td>Avatar</td>\n",
       "      <td>In the 22nd century, a paraplegic Marine is di...</td>\n",
       "      <td>150.437577</td>\n",
       "      <td>[{\"name\": \"Ingenious Film Partners\", \"id\": 289...</td>\n",
       "      <td>[{\"iso_3166_1\": \"US\", \"name\": \"United States o...</td>\n",
       "      <td>2009-12-10</td>\n",
       "      <td>2787965087</td>\n",
       "      <td>162.0</td>\n",
       "      <td>[{\"iso_639_1\": \"en\", \"name\": \"English\"}, {\"iso...</td>\n",
       "      <td>Released</td>\n",
       "      <td>Enter the World of Pandora.</td>\n",
       "      <td>Avatar</td>\n",
       "      <td>7.2</td>\n",
       "      <td>11800</td>\n",
       "    </tr>\n",
       "  </tbody>\n",
       "</table>\n",
       "</div>"
      ],
      "text/plain": [
       "      budget                                             genres  \\\n",
       "0  237000000  [{\"id\": 28, \"name\": \"Action\"}, {\"id\": 12, \"nam...   \n",
       "\n",
       "                      homepage     id  \\\n",
       "0  http://www.avatarmovie.com/  19995   \n",
       "\n",
       "                                            keywords original_language  \\\n",
       "0  [{\"id\": 1463, \"name\": \"culture clash\"}, {\"id\":...                en   \n",
       "\n",
       "  original_title                                           overview  \\\n",
       "0         Avatar  In the 22nd century, a paraplegic Marine is di...   \n",
       "\n",
       "   popularity                               production_companies  \\\n",
       "0  150.437577  [{\"name\": \"Ingenious Film Partners\", \"id\": 289...   \n",
       "\n",
       "                                production_countries release_date     revenue  \\\n",
       "0  [{\"iso_3166_1\": \"US\", \"name\": \"United States o...   2009-12-10  2787965087   \n",
       "\n",
       "   runtime                                   spoken_languages    status  \\\n",
       "0    162.0  [{\"iso_639_1\": \"en\", \"name\": \"English\"}, {\"iso...  Released   \n",
       "\n",
       "                       tagline   title  vote_average  vote_count  \n",
       "0  Enter the World of Pandora.  Avatar           7.2       11800  "
      ]
     },
     "execution_count": 40,
     "metadata": {},
     "output_type": "execute_result"
    }
   ],
   "source": [
    "movies.head(1)"
   ]
  },
  {
   "cell_type": "code",
   "execution_count": 41,
   "id": "62086bc0",
   "metadata": {
    "pycharm": {
     "name": "#%%\n"
    }
   },
   "outputs": [
    {
     "data": {
      "text/html": [
       "<div>\n",
       "<style scoped>\n",
       "    .dataframe tbody tr th:only-of-type {\n",
       "        vertical-align: middle;\n",
       "    }\n",
       "\n",
       "    .dataframe tbody tr th {\n",
       "        vertical-align: top;\n",
       "    }\n",
       "\n",
       "    .dataframe thead th {\n",
       "        text-align: right;\n",
       "    }\n",
       "</style>\n",
       "<table border=\"1\" class=\"dataframe\">\n",
       "  <thead>\n",
       "    <tr style=\"text-align: right;\">\n",
       "      <th></th>\n",
       "      <th>movie_id</th>\n",
       "      <th>title</th>\n",
       "      <th>cast</th>\n",
       "      <th>crew</th>\n",
       "    </tr>\n",
       "  </thead>\n",
       "  <tbody>\n",
       "    <tr>\n",
       "      <th>0</th>\n",
       "      <td>19995</td>\n",
       "      <td>Avatar</td>\n",
       "      <td>[{\"cast_id\": 242, \"character\": \"Jake Sully\", \"...</td>\n",
       "      <td>[{\"credit_id\": \"52fe48009251416c750aca23\", \"de...</td>\n",
       "    </tr>\n",
       "  </tbody>\n",
       "</table>\n",
       "</div>"
      ],
      "text/plain": [
       "   movie_id   title                                               cast  \\\n",
       "0     19995  Avatar  [{\"cast_id\": 242, \"character\": \"Jake Sully\", \"...   \n",
       "\n",
       "                                                crew  \n",
       "0  [{\"credit_id\": \"52fe48009251416c750aca23\", \"de...  "
      ]
     },
     "execution_count": 41,
     "metadata": {},
     "output_type": "execute_result"
    }
   ],
   "source": [
    "credits.head(1)"
   ]
  },
  {
   "cell_type": "code",
   "execution_count": 42,
   "id": "a9cdd62a",
   "metadata": {
    "pycharm": {
     "name": "#%%\n"
    }
   },
   "outputs": [],
   "source": [
    "### merge\n",
    "movies = movies.merge(credits, on='title')"
   ]
  },
  {
   "cell_type": "code",
   "execution_count": 20,
   "id": "5bacc336",
   "metadata": {
    "pycharm": {
     "name": "#%%\n"
    }
   },
   "outputs": [
    {
     "name": "stdout",
     "output_type": "stream",
     "text": [
      "<class 'pandas.core.frame.DataFrame'>\n",
      "Int64Index: 4809 entries, 0 to 4808\n",
      "Data columns (total 23 columns):\n",
      " #   Column                Non-Null Count  Dtype  \n",
      "---  ------                --------------  -----  \n",
      " 0   budget                4809 non-null   int64  \n",
      " 1   genres                4809 non-null   object \n",
      " 2   homepage              1713 non-null   object \n",
      " 3   id                    4809 non-null   int64  \n",
      " 4   keywords              4809 non-null   object \n",
      " 5   original_language     4809 non-null   object \n",
      " 6   original_title        4809 non-null   object \n",
      " 7   overview              4806 non-null   object \n",
      " 8   popularity            4809 non-null   float64\n",
      " 9   production_companies  4809 non-null   object \n",
      " 10  production_countries  4809 non-null   object \n",
      " 11  release_date          4808 non-null   object \n",
      " 12  revenue               4809 non-null   int64  \n",
      " 13  runtime               4807 non-null   float64\n",
      " 14  spoken_languages      4809 non-null   object \n",
      " 15  status                4809 non-null   object \n",
      " 16  tagline               3965 non-null   object \n",
      " 17  title                 4809 non-null   object \n",
      " 18  vote_average          4809 non-null   float64\n",
      " 19  vote_count            4809 non-null   int64  \n",
      " 20  movie_id              4809 non-null   int64  \n",
      " 21  cast                  4809 non-null   object \n",
      " 22  crew                  4809 non-null   object \n",
      "dtypes: float64(3), int64(5), object(15)\n",
      "memory usage: 901.7+ KB\n",
      "None\n"
     ]
    }
   ],
   "source": [
    "# movies info\n",
    "movies.info()"
   ]
  },
  {
   "cell_type": "code",
   "execution_count": 24,
   "id": "66f77e47",
   "metadata": {
    "pycharm": {
     "name": "#%%\n"
    }
   },
   "outputs": [
    {
     "data": {
      "text/plain": [
       "380000000"
      ]
     },
     "execution_count": 24,
     "metadata": {},
     "output_type": "execute_result"
    }
   ],
   "source": [
    "movies['budget'].max() ## max budget"
   ]
  },
  {
   "cell_type": "code",
   "execution_count": 28,
   "id": "4b4f7fa1",
   "metadata": {
    "scrolled": true,
    "pycharm": {
     "name": "#%%\n"
    }
   },
   "outputs": [
    {
     "data": {
      "text/plain": [
       "en    4510\n",
       "fr      70\n",
       "es      32\n",
       "zh      27\n",
       "de      27\n",
       "hi      19\n",
       "ja      16\n",
       "it      14\n",
       "ko      12\n",
       "cn      12\n",
       "ru      11\n",
       "pt       9\n",
       "da       7\n",
       "sv       5\n",
       "nl       4\n",
       "fa       4\n",
       "th       3\n",
       "he       3\n",
       "ta       2\n",
       "cs       2\n",
       "ro       2\n",
       "id       2\n",
       "ar       2\n",
       "vi       1\n",
       "sl       1\n",
       "ps       1\n",
       "no       1\n",
       "ky       1\n",
       "hu       1\n",
       "pl       1\n",
       "af       1\n",
       "nb       1\n",
       "tr       1\n",
       "is       1\n",
       "xx       1\n",
       "te       1\n",
       "el       1\n",
       "Name: original_language, dtype: int64"
      ]
     },
     "execution_count": 28,
     "metadata": {},
     "output_type": "execute_result"
    }
   ],
   "source": [
    "movies['original_language'].value_counts() ## original language"
   ]
  },
  {
   "cell_type": "code",
   "execution_count": 30,
   "id": "da3e85d8",
   "metadata": {
    "pycharm": {
     "name": "#%%\n"
    }
   },
   "outputs": [
    {
     "data": {
      "text/plain": [
       "'In the 22nd century, a paraplegic Marine is dispatched to the moon Pandora on a unique mission, but becomes torn between following orders and protecting an alien civilization.'"
      ]
     },
     "execution_count": 30,
     "metadata": {},
     "output_type": "execute_result"
    }
   ],
   "source": [
    "movies['overview'][0] ## overview of first movie"
   ]
  },
  {
   "cell_type": "code",
   "execution_count": 31,
   "id": "120883e1",
   "metadata": {
    "pycharm": {
     "name": "#%%\n"
    }
   },
   "outputs": [
    {
     "data": {
      "text/plain": [
       "'[{\"id\": 1463, \"name\": \"culture clash\"}, {\"id\": 2964, \"name\": \"future\"}, {\"id\": 3386, \"name\": \"space war\"}, {\"id\": 3388, \"name\": \"space colony\"}, {\"id\": 3679, \"name\": \"society\"}, {\"id\": 3801, \"name\": \"space travel\"}, {\"id\": 9685, \"name\": \"futuristic\"}, {\"id\": 9840, \"name\": \"romance\"}, {\"id\": 9882, \"name\": \"space\"}, {\"id\": 9951, \"name\": \"alien\"}, {\"id\": 10148, \"name\": \"tribe\"}, {\"id\": 10158, \"name\": \"alien planet\"}, {\"id\": 10987, \"name\": \"cgi\"}, {\"id\": 11399, \"name\": \"marine\"}, {\"id\": 13065, \"name\": \"soldier\"}, {\"id\": 14643, \"name\": \"battle\"}, {\"id\": 14720, \"name\": \"love affair\"}, {\"id\": 165431, \"name\": \"anti war\"}, {\"id\": 193554, \"name\": \"power relations\"}, {\"id\": 206690, \"name\": \"mind and soul\"}, {\"id\": 209714, \"name\": \"3d\"}]'"
      ]
     },
     "execution_count": 31,
     "metadata": {},
     "output_type": "execute_result"
    }
   ],
   "source": [
    "movies['keywords'][0] ## keywords of first movie"
   ]
  },
  {
   "cell_type": "code",
   "execution_count": 43,
   "id": "5f569657",
   "metadata": {
    "pycharm": {
     "name": "#%%\n"
    }
   },
   "outputs": [],
   "source": [
    "## featurisation\n",
    "movies = movies[['movie_id', 'title','overview','genres','keywords','cast','crew']]"
   ]
  },
  {
   "cell_type": "code",
   "execution_count": 44,
   "id": "15c67d70",
   "metadata": {
    "pycharm": {
     "name": "#%%\n"
    }
   },
   "outputs": [
    {
     "data": {
      "text/html": [
       "<div>\n",
       "<style scoped>\n",
       "    .dataframe tbody tr th:only-of-type {\n",
       "        vertical-align: middle;\n",
       "    }\n",
       "\n",
       "    .dataframe tbody tr th {\n",
       "        vertical-align: top;\n",
       "    }\n",
       "\n",
       "    .dataframe thead th {\n",
       "        text-align: right;\n",
       "    }\n",
       "</style>\n",
       "<table border=\"1\" class=\"dataframe\">\n",
       "  <thead>\n",
       "    <tr style=\"text-align: right;\">\n",
       "      <th></th>\n",
       "      <th>movie_id</th>\n",
       "      <th>title</th>\n",
       "      <th>overview</th>\n",
       "      <th>genres</th>\n",
       "      <th>keywords</th>\n",
       "      <th>cast</th>\n",
       "      <th>crew</th>\n",
       "    </tr>\n",
       "  </thead>\n",
       "  <tbody>\n",
       "    <tr>\n",
       "      <th>0</th>\n",
       "      <td>19995</td>\n",
       "      <td>Avatar</td>\n",
       "      <td>In the 22nd century, a paraplegic Marine is di...</td>\n",
       "      <td>[{\"id\": 28, \"name\": \"Action\"}, {\"id\": 12, \"nam...</td>\n",
       "      <td>[{\"id\": 1463, \"name\": \"culture clash\"}, {\"id\":...</td>\n",
       "      <td>[{\"cast_id\": 242, \"character\": \"Jake Sully\", \"...</td>\n",
       "      <td>[{\"credit_id\": \"52fe48009251416c750aca23\", \"de...</td>\n",
       "    </tr>\n",
       "  </tbody>\n",
       "</table>\n",
       "</div>"
      ],
      "text/plain": [
       "   movie_id   title                                           overview  \\\n",
       "0     19995  Avatar  In the 22nd century, a paraplegic Marine is di...   \n",
       "\n",
       "                                              genres  \\\n",
       "0  [{\"id\": 28, \"name\": \"Action\"}, {\"id\": 12, \"nam...   \n",
       "\n",
       "                                            keywords  \\\n",
       "0  [{\"id\": 1463, \"name\": \"culture clash\"}, {\"id\":...   \n",
       "\n",
       "                                                cast  \\\n",
       "0  [{\"cast_id\": 242, \"character\": \"Jake Sully\", \"...   \n",
       "\n",
       "                                                crew  \n",
       "0  [{\"credit_id\": \"52fe48009251416c750aca23\", \"de...  "
      ]
     },
     "execution_count": 44,
     "metadata": {},
     "output_type": "execute_result"
    }
   ],
   "source": [
    "movies.head(1)"
   ]
  },
  {
   "cell_type": "markdown",
   "id": "21f8404f",
   "metadata": {
    "pycharm": {
     "name": "#%% md\n"
    }
   },
   "source": [
    "#### Null values"
   ]
  },
  {
   "cell_type": "code",
   "execution_count": 45,
   "id": "fc2e3617",
   "metadata": {
    "pycharm": {
     "name": "#%%\n"
    }
   },
   "outputs": [
    {
     "data": {
      "text/plain": [
       "movie_id    0\n",
       "title       0\n",
       "overview    3\n",
       "genres      0\n",
       "keywords    0\n",
       "cast        0\n",
       "crew        0\n",
       "dtype: int64"
      ]
     },
     "execution_count": 45,
     "metadata": {},
     "output_type": "execute_result"
    }
   ],
   "source": [
    "movies.isnull().sum() ## 3 null in overview column"
   ]
  },
  {
   "cell_type": "code",
   "execution_count": 46,
   "id": "3299d52c",
   "metadata": {
    "pycharm": {
     "name": "#%%\n"
    }
   },
   "outputs": [],
   "source": [
    "movies.dropna(inplace=True)"
   ]
  },
  {
   "cell_type": "code",
   "execution_count": 47,
   "id": "90e61c54",
   "metadata": {
    "pycharm": {
     "name": "#%%\n"
    }
   },
   "outputs": [
    {
     "data": {
      "text/plain": [
       "movie_id    0\n",
       "title       0\n",
       "overview    0\n",
       "genres      0\n",
       "keywords    0\n",
       "cast        0\n",
       "crew        0\n",
       "dtype: int64"
      ]
     },
     "execution_count": 47,
     "metadata": {},
     "output_type": "execute_result"
    }
   ],
   "source": [
    "movies.isnull().sum()"
   ]
  },
  {
   "cell_type": "code",
   "execution_count": 48,
   "id": "9be3aa14",
   "metadata": {
    "pycharm": {
     "name": "#%%\n"
    }
   },
   "outputs": [
    {
     "data": {
      "text/plain": [
       "0"
      ]
     },
     "execution_count": 48,
     "metadata": {},
     "output_type": "execute_result"
    }
   ],
   "source": [
    "movies.duplicated().sum()"
   ]
  },
  {
   "cell_type": "code",
   "execution_count": 49,
   "id": "523909ed",
   "metadata": {
    "pycharm": {
     "name": "#%%\n"
    }
   },
   "outputs": [
    {
     "data": {
      "text/plain": [
       "'[{\"id\": 28, \"name\": \"Action\"}, {\"id\": 12, \"name\": \"Adventure\"}, {\"id\": 14, \"name\": \"Fantasy\"}, {\"id\": 878, \"name\": \"Science Fiction\"}]'"
      ]
     },
     "execution_count": 49,
     "metadata": {},
     "output_type": "execute_result"
    }
   ],
   "source": [
    "movies.iloc[0].genres"
   ]
  },
  {
   "cell_type": "code",
   "execution_count": 52,
   "id": "74bde6b1",
   "metadata": {
    "pycharm": {
     "name": "#%%\n"
    }
   },
   "outputs": [],
   "source": [
    "import ast"
   ]
  },
  {
   "cell_type": "code",
   "execution_count": 53,
   "id": "9d7673cb",
   "metadata": {
    "pycharm": {
     "name": "#%%\n"
    }
   },
   "outputs": [],
   "source": [
    "def convert(obj):\n",
    "    L = []\n",
    "    for i in ast.literal_eval(obj):\n",
    "        L.append(i['name'])\n",
    "    return L"
   ]
  },
  {
   "cell_type": "code",
   "execution_count": 55,
   "id": "3cf1bb78",
   "metadata": {
    "pycharm": {
     "name": "#%%\n"
    }
   },
   "outputs": [],
   "source": [
    "movies['genres'] = movies['genres'].apply(convert)"
   ]
  },
  {
   "cell_type": "code",
   "execution_count": 56,
   "id": "d88ae799",
   "metadata": {
    "pycharm": {
     "name": "#%%\n"
    }
   },
   "outputs": [
    {
     "data": {
      "text/html": [
       "<div>\n",
       "<style scoped>\n",
       "    .dataframe tbody tr th:only-of-type {\n",
       "        vertical-align: middle;\n",
       "    }\n",
       "\n",
       "    .dataframe tbody tr th {\n",
       "        vertical-align: top;\n",
       "    }\n",
       "\n",
       "    .dataframe thead th {\n",
       "        text-align: right;\n",
       "    }\n",
       "</style>\n",
       "<table border=\"1\" class=\"dataframe\">\n",
       "  <thead>\n",
       "    <tr style=\"text-align: right;\">\n",
       "      <th></th>\n",
       "      <th>movie_id</th>\n",
       "      <th>title</th>\n",
       "      <th>overview</th>\n",
       "      <th>genres</th>\n",
       "      <th>keywords</th>\n",
       "      <th>cast</th>\n",
       "      <th>crew</th>\n",
       "    </tr>\n",
       "  </thead>\n",
       "  <tbody>\n",
       "    <tr>\n",
       "      <th>0</th>\n",
       "      <td>19995</td>\n",
       "      <td>Avatar</td>\n",
       "      <td>In the 22nd century, a paraplegic Marine is di...</td>\n",
       "      <td>[Action, Adventure, Fantasy, Science Fiction]</td>\n",
       "      <td>[{\"id\": 1463, \"name\": \"culture clash\"}, {\"id\":...</td>\n",
       "      <td>[{\"cast_id\": 242, \"character\": \"Jake Sully\", \"...</td>\n",
       "      <td>[{\"credit_id\": \"52fe48009251416c750aca23\", \"de...</td>\n",
       "    </tr>\n",
       "    <tr>\n",
       "      <th>1</th>\n",
       "      <td>285</td>\n",
       "      <td>Pirates of the Caribbean: At World's End</td>\n",
       "      <td>Captain Barbossa, long believed to be dead, ha...</td>\n",
       "      <td>[Adventure, Fantasy, Action]</td>\n",
       "      <td>[{\"id\": 270, \"name\": \"ocean\"}, {\"id\": 726, \"na...</td>\n",
       "      <td>[{\"cast_id\": 4, \"character\": \"Captain Jack Spa...</td>\n",
       "      <td>[{\"credit_id\": \"52fe4232c3a36847f800b579\", \"de...</td>\n",
       "    </tr>\n",
       "    <tr>\n",
       "      <th>2</th>\n",
       "      <td>206647</td>\n",
       "      <td>Spectre</td>\n",
       "      <td>A cryptic message from Bond’s past sends him o...</td>\n",
       "      <td>[Action, Adventure, Crime]</td>\n",
       "      <td>[{\"id\": 470, \"name\": \"spy\"}, {\"id\": 818, \"name...</td>\n",
       "      <td>[{\"cast_id\": 1, \"character\": \"James Bond\", \"cr...</td>\n",
       "      <td>[{\"credit_id\": \"54805967c3a36829b5002c41\", \"de...</td>\n",
       "    </tr>\n",
       "    <tr>\n",
       "      <th>3</th>\n",
       "      <td>49026</td>\n",
       "      <td>The Dark Knight Rises</td>\n",
       "      <td>Following the death of District Attorney Harve...</td>\n",
       "      <td>[Action, Crime, Drama, Thriller]</td>\n",
       "      <td>[{\"id\": 849, \"name\": \"dc comics\"}, {\"id\": 853,...</td>\n",
       "      <td>[{\"cast_id\": 2, \"character\": \"Bruce Wayne / Ba...</td>\n",
       "      <td>[{\"credit_id\": \"52fe4781c3a36847f81398c3\", \"de...</td>\n",
       "    </tr>\n",
       "    <tr>\n",
       "      <th>4</th>\n",
       "      <td>49529</td>\n",
       "      <td>John Carter</td>\n",
       "      <td>John Carter is a war-weary, former military ca...</td>\n",
       "      <td>[Action, Adventure, Science Fiction]</td>\n",
       "      <td>[{\"id\": 818, \"name\": \"based on novel\"}, {\"id\":...</td>\n",
       "      <td>[{\"cast_id\": 5, \"character\": \"John Carter\", \"c...</td>\n",
       "      <td>[{\"credit_id\": \"52fe479ac3a36847f813eaa3\", \"de...</td>\n",
       "    </tr>\n",
       "  </tbody>\n",
       "</table>\n",
       "</div>"
      ],
      "text/plain": [
       "   movie_id                                     title  \\\n",
       "0     19995                                    Avatar   \n",
       "1       285  Pirates of the Caribbean: At World's End   \n",
       "2    206647                                   Spectre   \n",
       "3     49026                     The Dark Knight Rises   \n",
       "4     49529                               John Carter   \n",
       "\n",
       "                                            overview  \\\n",
       "0  In the 22nd century, a paraplegic Marine is di...   \n",
       "1  Captain Barbossa, long believed to be dead, ha...   \n",
       "2  A cryptic message from Bond’s past sends him o...   \n",
       "3  Following the death of District Attorney Harve...   \n",
       "4  John Carter is a war-weary, former military ca...   \n",
       "\n",
       "                                          genres  \\\n",
       "0  [Action, Adventure, Fantasy, Science Fiction]   \n",
       "1                   [Adventure, Fantasy, Action]   \n",
       "2                     [Action, Adventure, Crime]   \n",
       "3               [Action, Crime, Drama, Thriller]   \n",
       "4           [Action, Adventure, Science Fiction]   \n",
       "\n",
       "                                            keywords  \\\n",
       "0  [{\"id\": 1463, \"name\": \"culture clash\"}, {\"id\":...   \n",
       "1  [{\"id\": 270, \"name\": \"ocean\"}, {\"id\": 726, \"na...   \n",
       "2  [{\"id\": 470, \"name\": \"spy\"}, {\"id\": 818, \"name...   \n",
       "3  [{\"id\": 849, \"name\": \"dc comics\"}, {\"id\": 853,...   \n",
       "4  [{\"id\": 818, \"name\": \"based on novel\"}, {\"id\":...   \n",
       "\n",
       "                                                cast  \\\n",
       "0  [{\"cast_id\": 242, \"character\": \"Jake Sully\", \"...   \n",
       "1  [{\"cast_id\": 4, \"character\": \"Captain Jack Spa...   \n",
       "2  [{\"cast_id\": 1, \"character\": \"James Bond\", \"cr...   \n",
       "3  [{\"cast_id\": 2, \"character\": \"Bruce Wayne / Ba...   \n",
       "4  [{\"cast_id\": 5, \"character\": \"John Carter\", \"c...   \n",
       "\n",
       "                                                crew  \n",
       "0  [{\"credit_id\": \"52fe48009251416c750aca23\", \"de...  \n",
       "1  [{\"credit_id\": \"52fe4232c3a36847f800b579\", \"de...  \n",
       "2  [{\"credit_id\": \"54805967c3a36829b5002c41\", \"de...  \n",
       "3  [{\"credit_id\": \"52fe4781c3a36847f81398c3\", \"de...  \n",
       "4  [{\"credit_id\": \"52fe479ac3a36847f813eaa3\", \"de...  "
      ]
     },
     "execution_count": 56,
     "metadata": {},
     "output_type": "execute_result"
    }
   ],
   "source": [
    "movies.head()"
   ]
  },
  {
   "cell_type": "code",
   "execution_count": 57,
   "id": "83cabe82",
   "metadata": {
    "pycharm": {
     "name": "#%%\n"
    }
   },
   "outputs": [
    {
     "data": {
      "text/plain": [
       "'[{\"id\": 1463, \"name\": \"culture clash\"}, {\"id\": 2964, \"name\": \"future\"}, {\"id\": 3386, \"name\": \"space war\"}, {\"id\": 3388, \"name\": \"space colony\"}, {\"id\": 3679, \"name\": \"society\"}, {\"id\": 3801, \"name\": \"space travel\"}, {\"id\": 9685, \"name\": \"futuristic\"}, {\"id\": 9840, \"name\": \"romance\"}, {\"id\": 9882, \"name\": \"space\"}, {\"id\": 9951, \"name\": \"alien\"}, {\"id\": 10148, \"name\": \"tribe\"}, {\"id\": 10158, \"name\": \"alien planet\"}, {\"id\": 10987, \"name\": \"cgi\"}, {\"id\": 11399, \"name\": \"marine\"}, {\"id\": 13065, \"name\": \"soldier\"}, {\"id\": 14643, \"name\": \"battle\"}, {\"id\": 14720, \"name\": \"love affair\"}, {\"id\": 165431, \"name\": \"anti war\"}, {\"id\": 193554, \"name\": \"power relations\"}, {\"id\": 206690, \"name\": \"mind and soul\"}, {\"id\": 209714, \"name\": \"3d\"}]'"
      ]
     },
     "execution_count": 57,
     "metadata": {},
     "output_type": "execute_result"
    }
   ],
   "source": [
    "movies.iloc[0].keywords"
   ]
  },
  {
   "cell_type": "code",
   "execution_count": 58,
   "id": "8c764f48",
   "metadata": {
    "pycharm": {
     "name": "#%%\n"
    }
   },
   "outputs": [],
   "source": [
    "movies['keywords'] = movies['keywords'].apply(convert)"
   ]
  },
  {
   "cell_type": "code",
   "execution_count": 65,
   "id": "b6d042bf",
   "metadata": {
    "pycharm": {
     "name": "#%%\n"
    }
   },
   "outputs": [],
   "source": [
    "def casts(obj):\n",
    "    counter = 0\n",
    "    L = []\n",
    "    for i in ast.literal_eval(obj):\n",
    "        if counter != 3:\n",
    "            L.append(i['name'])\n",
    "            counter += 1\n",
    "        else:\n",
    "            break\n",
    "    return L"
   ]
  },
  {
   "cell_type": "code",
   "execution_count": 63,
   "id": "1fd6e557",
   "metadata": {
    "pycharm": {
     "name": "#%%\n"
    }
   },
   "outputs": [],
   "source": [
    "movies['cast'] = movies['cast'].apply(casts)"
   ]
  },
  {
   "cell_type": "code",
   "execution_count": 64,
   "id": "55e49542",
   "metadata": {
    "pycharm": {
     "name": "#%%\n"
    }
   },
   "outputs": [
    {
     "data": {
      "text/html": [
       "<div>\n",
       "<style scoped>\n",
       "    .dataframe tbody tr th:only-of-type {\n",
       "        vertical-align: middle;\n",
       "    }\n",
       "\n",
       "    .dataframe tbody tr th {\n",
       "        vertical-align: top;\n",
       "    }\n",
       "\n",
       "    .dataframe thead th {\n",
       "        text-align: right;\n",
       "    }\n",
       "</style>\n",
       "<table border=\"1\" class=\"dataframe\">\n",
       "  <thead>\n",
       "    <tr style=\"text-align: right;\">\n",
       "      <th></th>\n",
       "      <th>movie_id</th>\n",
       "      <th>title</th>\n",
       "      <th>overview</th>\n",
       "      <th>genres</th>\n",
       "      <th>keywords</th>\n",
       "      <th>cast</th>\n",
       "      <th>crew</th>\n",
       "    </tr>\n",
       "  </thead>\n",
       "  <tbody>\n",
       "    <tr>\n",
       "      <th>0</th>\n",
       "      <td>19995</td>\n",
       "      <td>Avatar</td>\n",
       "      <td>In the 22nd century, a paraplegic Marine is di...</td>\n",
       "      <td>[Action, Adventure, Fantasy, Science Fiction]</td>\n",
       "      <td>[culture clash, future, space war, space colon...</td>\n",
       "      <td>[Sam Worthington, Zoe Saldana, Sigourney Weaver]</td>\n",
       "      <td>[{\"credit_id\": \"52fe48009251416c750aca23\", \"de...</td>\n",
       "    </tr>\n",
       "  </tbody>\n",
       "</table>\n",
       "</div>"
      ],
      "text/plain": [
       "   movie_id   title                                           overview  \\\n",
       "0     19995  Avatar  In the 22nd century, a paraplegic Marine is di...   \n",
       "\n",
       "                                          genres  \\\n",
       "0  [Action, Adventure, Fantasy, Science Fiction]   \n",
       "\n",
       "                                            keywords  \\\n",
       "0  [culture clash, future, space war, space colon...   \n",
       "\n",
       "                                               cast  \\\n",
       "0  [Sam Worthington, Zoe Saldana, Sigourney Weaver]   \n",
       "\n",
       "                                                crew  \n",
       "0  [{\"credit_id\": \"52fe48009251416c750aca23\", \"de...  "
      ]
     },
     "execution_count": 64,
     "metadata": {},
     "output_type": "execute_result"
    }
   ],
   "source": [
    "movies.head(1)"
   ]
  },
  {
   "cell_type": "code",
   "execution_count": 66,
   "id": "fc7188e2",
   "metadata": {
    "pycharm": {
     "name": "#%%\n"
    }
   },
   "outputs": [],
   "source": [
    "### Crew\n",
    "\n",
    "def fetch_crew_director(obj):\n",
    "    L = []\n",
    "    for i in ast.literal_eval(obj):\n",
    "        if i['job'] == 'Director':\n",
    "            L.append(i['name'])\n",
    "            break\n",
    "    return L"
   ]
  },
  {
   "cell_type": "code",
   "execution_count": 67,
   "id": "3323f0a3",
   "metadata": {
    "pycharm": {
     "name": "#%%\n"
    }
   },
   "outputs": [
    {
     "data": {
      "text/plain": [
       "['James Cameron']"
      ]
     },
     "execution_count": 67,
     "metadata": {},
     "output_type": "execute_result"
    }
   ],
   "source": [
    "fetch_crew_director(movies.iloc[0].crew)"
   ]
  },
  {
   "cell_type": "code",
   "execution_count": 68,
   "id": "a36fd240",
   "metadata": {
    "pycharm": {
     "name": "#%%\n"
    }
   },
   "outputs": [],
   "source": [
    "movies['crew'] = movies['crew'].apply(fetch_crew_director)"
   ]
  },
  {
   "cell_type": "code",
   "execution_count": 69,
   "id": "327b896b",
   "metadata": {
    "pycharm": {
     "name": "#%%\n"
    }
   },
   "outputs": [
    {
     "data": {
      "text/html": [
       "<div>\n",
       "<style scoped>\n",
       "    .dataframe tbody tr th:only-of-type {\n",
       "        vertical-align: middle;\n",
       "    }\n",
       "\n",
       "    .dataframe tbody tr th {\n",
       "        vertical-align: top;\n",
       "    }\n",
       "\n",
       "    .dataframe thead th {\n",
       "        text-align: right;\n",
       "    }\n",
       "</style>\n",
       "<table border=\"1\" class=\"dataframe\">\n",
       "  <thead>\n",
       "    <tr style=\"text-align: right;\">\n",
       "      <th></th>\n",
       "      <th>movie_id</th>\n",
       "      <th>title</th>\n",
       "      <th>overview</th>\n",
       "      <th>genres</th>\n",
       "      <th>keywords</th>\n",
       "      <th>cast</th>\n",
       "      <th>crew</th>\n",
       "    </tr>\n",
       "  </thead>\n",
       "  <tbody>\n",
       "    <tr>\n",
       "      <th>0</th>\n",
       "      <td>19995</td>\n",
       "      <td>Avatar</td>\n",
       "      <td>In the 22nd century, a paraplegic Marine is di...</td>\n",
       "      <td>[Action, Adventure, Fantasy, Science Fiction]</td>\n",
       "      <td>[culture clash, future, space war, space colon...</td>\n",
       "      <td>[Sam Worthington, Zoe Saldana, Sigourney Weaver]</td>\n",
       "      <td>[James Cameron]</td>\n",
       "    </tr>\n",
       "    <tr>\n",
       "      <th>1</th>\n",
       "      <td>285</td>\n",
       "      <td>Pirates of the Caribbean: At World's End</td>\n",
       "      <td>Captain Barbossa, long believed to be dead, ha...</td>\n",
       "      <td>[Adventure, Fantasy, Action]</td>\n",
       "      <td>[ocean, drug abuse, exotic island, east india ...</td>\n",
       "      <td>[Johnny Depp, Orlando Bloom, Keira Knightley]</td>\n",
       "      <td>[Gore Verbinski]</td>\n",
       "    </tr>\n",
       "    <tr>\n",
       "      <th>2</th>\n",
       "      <td>206647</td>\n",
       "      <td>Spectre</td>\n",
       "      <td>A cryptic message from Bond’s past sends him o...</td>\n",
       "      <td>[Action, Adventure, Crime]</td>\n",
       "      <td>[spy, based on novel, secret agent, sequel, mi...</td>\n",
       "      <td>[Daniel Craig, Christoph Waltz, Léa Seydoux]</td>\n",
       "      <td>[Sam Mendes]</td>\n",
       "    </tr>\n",
       "    <tr>\n",
       "      <th>3</th>\n",
       "      <td>49026</td>\n",
       "      <td>The Dark Knight Rises</td>\n",
       "      <td>Following the death of District Attorney Harve...</td>\n",
       "      <td>[Action, Crime, Drama, Thriller]</td>\n",
       "      <td>[dc comics, crime fighter, terrorist, secret i...</td>\n",
       "      <td>[Christian Bale, Michael Caine, Gary Oldman]</td>\n",
       "      <td>[Christopher Nolan]</td>\n",
       "    </tr>\n",
       "    <tr>\n",
       "      <th>4</th>\n",
       "      <td>49529</td>\n",
       "      <td>John Carter</td>\n",
       "      <td>John Carter is a war-weary, former military ca...</td>\n",
       "      <td>[Action, Adventure, Science Fiction]</td>\n",
       "      <td>[based on novel, mars, medallion, space travel...</td>\n",
       "      <td>[Taylor Kitsch, Lynn Collins, Samantha Morton]</td>\n",
       "      <td>[Andrew Stanton]</td>\n",
       "    </tr>\n",
       "  </tbody>\n",
       "</table>\n",
       "</div>"
      ],
      "text/plain": [
       "   movie_id                                     title  \\\n",
       "0     19995                                    Avatar   \n",
       "1       285  Pirates of the Caribbean: At World's End   \n",
       "2    206647                                   Spectre   \n",
       "3     49026                     The Dark Knight Rises   \n",
       "4     49529                               John Carter   \n",
       "\n",
       "                                            overview  \\\n",
       "0  In the 22nd century, a paraplegic Marine is di...   \n",
       "1  Captain Barbossa, long believed to be dead, ha...   \n",
       "2  A cryptic message from Bond’s past sends him o...   \n",
       "3  Following the death of District Attorney Harve...   \n",
       "4  John Carter is a war-weary, former military ca...   \n",
       "\n",
       "                                          genres  \\\n",
       "0  [Action, Adventure, Fantasy, Science Fiction]   \n",
       "1                   [Adventure, Fantasy, Action]   \n",
       "2                     [Action, Adventure, Crime]   \n",
       "3               [Action, Crime, Drama, Thriller]   \n",
       "4           [Action, Adventure, Science Fiction]   \n",
       "\n",
       "                                            keywords  \\\n",
       "0  [culture clash, future, space war, space colon...   \n",
       "1  [ocean, drug abuse, exotic island, east india ...   \n",
       "2  [spy, based on novel, secret agent, sequel, mi...   \n",
       "3  [dc comics, crime fighter, terrorist, secret i...   \n",
       "4  [based on novel, mars, medallion, space travel...   \n",
       "\n",
       "                                               cast                 crew  \n",
       "0  [Sam Worthington, Zoe Saldana, Sigourney Weaver]      [James Cameron]  \n",
       "1     [Johnny Depp, Orlando Bloom, Keira Knightley]     [Gore Verbinski]  \n",
       "2      [Daniel Craig, Christoph Waltz, Léa Seydoux]         [Sam Mendes]  \n",
       "3      [Christian Bale, Michael Caine, Gary Oldman]  [Christopher Nolan]  \n",
       "4    [Taylor Kitsch, Lynn Collins, Samantha Morton]     [Andrew Stanton]  "
      ]
     },
     "execution_count": 69,
     "metadata": {},
     "output_type": "execute_result"
    }
   ],
   "source": [
    "movies.head()"
   ]
  },
  {
   "cell_type": "code",
   "execution_count": 70,
   "id": "91ea5af2",
   "metadata": {
    "pycharm": {
     "name": "#%%\n"
    }
   },
   "outputs": [],
   "source": [
    "movies['overview'] = movies['overview'].apply(lambda x : x.split())"
   ]
  },
  {
   "cell_type": "code",
   "execution_count": 71,
   "id": "3d37fc1b",
   "metadata": {
    "pycharm": {
     "name": "#%%\n"
    }
   },
   "outputs": [
    {
     "data": {
      "text/html": [
       "<div>\n",
       "<style scoped>\n",
       "    .dataframe tbody tr th:only-of-type {\n",
       "        vertical-align: middle;\n",
       "    }\n",
       "\n",
       "    .dataframe tbody tr th {\n",
       "        vertical-align: top;\n",
       "    }\n",
       "\n",
       "    .dataframe thead th {\n",
       "        text-align: right;\n",
       "    }\n",
       "</style>\n",
       "<table border=\"1\" class=\"dataframe\">\n",
       "  <thead>\n",
       "    <tr style=\"text-align: right;\">\n",
       "      <th></th>\n",
       "      <th>movie_id</th>\n",
       "      <th>title</th>\n",
       "      <th>overview</th>\n",
       "      <th>genres</th>\n",
       "      <th>keywords</th>\n",
       "      <th>cast</th>\n",
       "      <th>crew</th>\n",
       "    </tr>\n",
       "  </thead>\n",
       "  <tbody>\n",
       "    <tr>\n",
       "      <th>0</th>\n",
       "      <td>19995</td>\n",
       "      <td>Avatar</td>\n",
       "      <td>[In, the, 22nd, century,, a, paraplegic, Marin...</td>\n",
       "      <td>[Action, Adventure, Fantasy, Science Fiction]</td>\n",
       "      <td>[culture clash, future, space war, space colon...</td>\n",
       "      <td>[Sam Worthington, Zoe Saldana, Sigourney Weaver]</td>\n",
       "      <td>[James Cameron]</td>\n",
       "    </tr>\n",
       "    <tr>\n",
       "      <th>1</th>\n",
       "      <td>285</td>\n",
       "      <td>Pirates of the Caribbean: At World's End</td>\n",
       "      <td>[Captain, Barbossa,, long, believed, to, be, d...</td>\n",
       "      <td>[Adventure, Fantasy, Action]</td>\n",
       "      <td>[ocean, drug abuse, exotic island, east india ...</td>\n",
       "      <td>[Johnny Depp, Orlando Bloom, Keira Knightley]</td>\n",
       "      <td>[Gore Verbinski]</td>\n",
       "    </tr>\n",
       "  </tbody>\n",
       "</table>\n",
       "</div>"
      ],
      "text/plain": [
       "   movie_id                                     title  \\\n",
       "0     19995                                    Avatar   \n",
       "1       285  Pirates of the Caribbean: At World's End   \n",
       "\n",
       "                                            overview  \\\n",
       "0  [In, the, 22nd, century,, a, paraplegic, Marin...   \n",
       "1  [Captain, Barbossa,, long, believed, to, be, d...   \n",
       "\n",
       "                                          genres  \\\n",
       "0  [Action, Adventure, Fantasy, Science Fiction]   \n",
       "1                   [Adventure, Fantasy, Action]   \n",
       "\n",
       "                                            keywords  \\\n",
       "0  [culture clash, future, space war, space colon...   \n",
       "1  [ocean, drug abuse, exotic island, east india ...   \n",
       "\n",
       "                                               cast              crew  \n",
       "0  [Sam Worthington, Zoe Saldana, Sigourney Weaver]   [James Cameron]  \n",
       "1     [Johnny Depp, Orlando Bloom, Keira Knightley]  [Gore Verbinski]  "
      ]
     },
     "execution_count": 71,
     "metadata": {},
     "output_type": "execute_result"
    }
   ],
   "source": [
    "movies.head(2)"
   ]
  },
  {
   "cell_type": "code",
   "execution_count": 73,
   "id": "47a6ba84",
   "metadata": {
    "pycharm": {
     "name": "#%%\n"
    }
   },
   "outputs": [],
   "source": [
    "## remove space between tag\n",
    "movies['genres'] = movies['genres'].apply(lambda x : [i.replace(\" \", \"\") for i in x])\n",
    "movies['keywords'] = movies['keywords'].apply(lambda x : [i.replace(\" \", \"\") for i in x])\n",
    "movies['cast'] = movies['cast'].apply(lambda x : [i.replace(\" \", \"\") for i in x])\n",
    "movies['crew'] = movies['crew'].apply(lambda x : [i.replace(\" \", \"\") for i in x])"
   ]
  },
  {
   "cell_type": "code",
   "execution_count": 74,
   "id": "6cd14271",
   "metadata": {
    "pycharm": {
     "name": "#%%\n"
    }
   },
   "outputs": [],
   "source": [
    "## create new df\n",
    "\n",
    "movies['tags'] = movies['overview'] + movies['genres'] + movies['keywords'] +  movies['cast'] + movies['crew']"
   ]
  },
  {
   "cell_type": "code",
   "execution_count": 75,
   "id": "5a69b47f",
   "metadata": {
    "pycharm": {
     "name": "#%%\n"
    }
   },
   "outputs": [],
   "source": [
    "new_df = movies[['movie_id','title', 'tags']]"
   ]
  },
  {
   "cell_type": "code",
   "execution_count": 76,
   "id": "b21aa120",
   "metadata": {
    "pycharm": {
     "name": "#%%\n"
    }
   },
   "outputs": [
    {
     "data": {
      "text/html": [
       "<div>\n",
       "<style scoped>\n",
       "    .dataframe tbody tr th:only-of-type {\n",
       "        vertical-align: middle;\n",
       "    }\n",
       "\n",
       "    .dataframe tbody tr th {\n",
       "        vertical-align: top;\n",
       "    }\n",
       "\n",
       "    .dataframe thead th {\n",
       "        text-align: right;\n",
       "    }\n",
       "</style>\n",
       "<table border=\"1\" class=\"dataframe\">\n",
       "  <thead>\n",
       "    <tr style=\"text-align: right;\">\n",
       "      <th></th>\n",
       "      <th>movie_id</th>\n",
       "      <th>title</th>\n",
       "      <th>tags</th>\n",
       "    </tr>\n",
       "  </thead>\n",
       "  <tbody>\n",
       "    <tr>\n",
       "      <th>0</th>\n",
       "      <td>19995</td>\n",
       "      <td>Avatar</td>\n",
       "      <td>[In, the, 22nd, century,, a, paraplegic, Marin...</td>\n",
       "    </tr>\n",
       "    <tr>\n",
       "      <th>1</th>\n",
       "      <td>285</td>\n",
       "      <td>Pirates of the Caribbean: At World's End</td>\n",
       "      <td>[Captain, Barbossa,, long, believed, to, be, d...</td>\n",
       "    </tr>\n",
       "    <tr>\n",
       "      <th>2</th>\n",
       "      <td>206647</td>\n",
       "      <td>Spectre</td>\n",
       "      <td>[A, cryptic, message, from, Bond’s, past, send...</td>\n",
       "    </tr>\n",
       "    <tr>\n",
       "      <th>3</th>\n",
       "      <td>49026</td>\n",
       "      <td>The Dark Knight Rises</td>\n",
       "      <td>[Following, the, death, of, District, Attorney...</td>\n",
       "    </tr>\n",
       "    <tr>\n",
       "      <th>4</th>\n",
       "      <td>49529</td>\n",
       "      <td>John Carter</td>\n",
       "      <td>[John, Carter, is, a, war-weary,, former, mili...</td>\n",
       "    </tr>\n",
       "  </tbody>\n",
       "</table>\n",
       "</div>"
      ],
      "text/plain": [
       "   movie_id                                     title  \\\n",
       "0     19995                                    Avatar   \n",
       "1       285  Pirates of the Caribbean: At World's End   \n",
       "2    206647                                   Spectre   \n",
       "3     49026                     The Dark Knight Rises   \n",
       "4     49529                               John Carter   \n",
       "\n",
       "                                                tags  \n",
       "0  [In, the, 22nd, century,, a, paraplegic, Marin...  \n",
       "1  [Captain, Barbossa,, long, believed, to, be, d...  \n",
       "2  [A, cryptic, message, from, Bond’s, past, send...  \n",
       "3  [Following, the, death, of, District, Attorney...  \n",
       "4  [John, Carter, is, a, war-weary,, former, mili...  "
      ]
     },
     "execution_count": 76,
     "metadata": {},
     "output_type": "execute_result"
    }
   ],
   "source": [
    "new_df.head(5)"
   ]
  },
  {
   "cell_type": "code",
   "execution_count": 77,
   "id": "b7536268",
   "metadata": {
    "pycharm": {
     "name": "#%%\n"
    }
   },
   "outputs": [
    {
     "name": "stderr",
     "output_type": "stream",
     "text": [
      "/var/folders/9m/vg703zc133bgfz9mcf15mvhm0000gn/T/ipykernel_59090/895399174.py:1: SettingWithCopyWarning: \n",
      "A value is trying to be set on a copy of a slice from a DataFrame.\n",
      "Try using .loc[row_indexer,col_indexer] = value instead\n",
      "\n",
      "See the caveats in the documentation: https://pandas.pydata.org/pandas-docs/stable/user_guide/indexing.html#returning-a-view-versus-a-copy\n",
      "  new_df['tags'] = new_df['tags'].apply(lambda x: ' '.join(x))\n"
     ]
    }
   ],
   "source": [
    "new_df['tags'] = new_df['tags'].apply(lambda x: ' '.join(x))"
   ]
  },
  {
   "cell_type": "code",
   "execution_count": 78,
   "id": "997ec0c5",
   "metadata": {
    "pycharm": {
     "name": "#%%\n"
    }
   },
   "outputs": [
    {
     "data": {
      "text/html": [
       "<div>\n",
       "<style scoped>\n",
       "    .dataframe tbody tr th:only-of-type {\n",
       "        vertical-align: middle;\n",
       "    }\n",
       "\n",
       "    .dataframe tbody tr th {\n",
       "        vertical-align: top;\n",
       "    }\n",
       "\n",
       "    .dataframe thead th {\n",
       "        text-align: right;\n",
       "    }\n",
       "</style>\n",
       "<table border=\"1\" class=\"dataframe\">\n",
       "  <thead>\n",
       "    <tr style=\"text-align: right;\">\n",
       "      <th></th>\n",
       "      <th>movie_id</th>\n",
       "      <th>title</th>\n",
       "      <th>tags</th>\n",
       "    </tr>\n",
       "  </thead>\n",
       "  <tbody>\n",
       "    <tr>\n",
       "      <th>0</th>\n",
       "      <td>19995</td>\n",
       "      <td>Avatar</td>\n",
       "      <td>In the 22nd century, a paraplegic Marine is di...</td>\n",
       "    </tr>\n",
       "    <tr>\n",
       "      <th>1</th>\n",
       "      <td>285</td>\n",
       "      <td>Pirates of the Caribbean: At World's End</td>\n",
       "      <td>Captain Barbossa, long believed to be dead, ha...</td>\n",
       "    </tr>\n",
       "    <tr>\n",
       "      <th>2</th>\n",
       "      <td>206647</td>\n",
       "      <td>Spectre</td>\n",
       "      <td>A cryptic message from Bond’s past sends him o...</td>\n",
       "    </tr>\n",
       "    <tr>\n",
       "      <th>3</th>\n",
       "      <td>49026</td>\n",
       "      <td>The Dark Knight Rises</td>\n",
       "      <td>Following the death of District Attorney Harve...</td>\n",
       "    </tr>\n",
       "    <tr>\n",
       "      <th>4</th>\n",
       "      <td>49529</td>\n",
       "      <td>John Carter</td>\n",
       "      <td>John Carter is a war-weary, former military ca...</td>\n",
       "    </tr>\n",
       "    <tr>\n",
       "      <th>...</th>\n",
       "      <td>...</td>\n",
       "      <td>...</td>\n",
       "      <td>...</td>\n",
       "    </tr>\n",
       "    <tr>\n",
       "      <th>4804</th>\n",
       "      <td>9367</td>\n",
       "      <td>El Mariachi</td>\n",
       "      <td>El Mariachi just wants to play his guitar and ...</td>\n",
       "    </tr>\n",
       "    <tr>\n",
       "      <th>4805</th>\n",
       "      <td>72766</td>\n",
       "      <td>Newlyweds</td>\n",
       "      <td>A newlywed couple's honeymoon is upended by th...</td>\n",
       "    </tr>\n",
       "    <tr>\n",
       "      <th>4806</th>\n",
       "      <td>231617</td>\n",
       "      <td>Signed, Sealed, Delivered</td>\n",
       "      <td>\"Signed, Sealed, Delivered\" introduces a dedic...</td>\n",
       "    </tr>\n",
       "    <tr>\n",
       "      <th>4807</th>\n",
       "      <td>126186</td>\n",
       "      <td>Shanghai Calling</td>\n",
       "      <td>When ambitious New York attorney Sam is sent t...</td>\n",
       "    </tr>\n",
       "    <tr>\n",
       "      <th>4808</th>\n",
       "      <td>25975</td>\n",
       "      <td>My Date with Drew</td>\n",
       "      <td>Ever since the second grade when he first saw ...</td>\n",
       "    </tr>\n",
       "  </tbody>\n",
       "</table>\n",
       "<p>4806 rows × 3 columns</p>\n",
       "</div>"
      ],
      "text/plain": [
       "      movie_id                                     title  \\\n",
       "0        19995                                    Avatar   \n",
       "1          285  Pirates of the Caribbean: At World's End   \n",
       "2       206647                                   Spectre   \n",
       "3        49026                     The Dark Knight Rises   \n",
       "4        49529                               John Carter   \n",
       "...        ...                                       ...   \n",
       "4804      9367                               El Mariachi   \n",
       "4805     72766                                 Newlyweds   \n",
       "4806    231617                 Signed, Sealed, Delivered   \n",
       "4807    126186                          Shanghai Calling   \n",
       "4808     25975                         My Date with Drew   \n",
       "\n",
       "                                                   tags  \n",
       "0     In the 22nd century, a paraplegic Marine is di...  \n",
       "1     Captain Barbossa, long believed to be dead, ha...  \n",
       "2     A cryptic message from Bond’s past sends him o...  \n",
       "3     Following the death of District Attorney Harve...  \n",
       "4     John Carter is a war-weary, former military ca...  \n",
       "...                                                 ...  \n",
       "4804  El Mariachi just wants to play his guitar and ...  \n",
       "4805  A newlywed couple's honeymoon is upended by th...  \n",
       "4806  \"Signed, Sealed, Delivered\" introduces a dedic...  \n",
       "4807  When ambitious New York attorney Sam is sent t...  \n",
       "4808  Ever since the second grade when he first saw ...  \n",
       "\n",
       "[4806 rows x 3 columns]"
      ]
     },
     "execution_count": 78,
     "metadata": {},
     "output_type": "execute_result"
    }
   ],
   "source": [
    "new_df"
   ]
  },
  {
   "cell_type": "code",
   "execution_count": 108,
   "id": "7294e28e",
   "metadata": {
    "pycharm": {
     "name": "#%%\n"
    }
   },
   "outputs": [],
   "source": [
    "import nltk"
   ]
  },
  {
   "cell_type": "code",
   "execution_count": 109,
   "id": "4f0ea2fb",
   "metadata": {
    "pycharm": {
     "name": "#%%\n"
    }
   },
   "outputs": [],
   "source": [
    "from nltk.stem.porter import PorterStemmer\n",
    "ps = PorterStemmer()\n"
   ]
  },
  {
   "cell_type": "code",
   "execution_count": 110,
   "id": "35de03d9",
   "metadata": {
    "pycharm": {
     "name": "#%%\n"
    }
   },
   "outputs": [],
   "source": [
    "def stem(text):\n",
    "    L = []\n",
    "    for w in text.split():\n",
    "        L.append(ps.stem(w))\n",
    "    return \" \".join(L)\n",
    "        "
   ]
  },
  {
   "cell_type": "code",
   "execution_count": 111,
   "id": "0032b0c5",
   "metadata": {
    "pycharm": {
     "name": "#%%\n"
    }
   },
   "outputs": [
    {
     "data": {
      "text/plain": [
       "'in the 22nd century, a parapleg marin is dispatch to the moon pandora on a uniqu mission, but becom torn between follow order and protect an alien civilization. action adventur fantasi sciencefict cultureclash futur spacewar spacecoloni societi spacetravel futurist romanc space alien tribe alienplanet cgi marin soldier battl loveaffair antiwar powerrel mindandsoul 3d samworthington zoesaldana sigourneyweav jamescameron'"
      ]
     },
     "execution_count": 111,
     "metadata": {},
     "output_type": "execute_result"
    }
   ],
   "source": [
    "stem(new_df['tags'][0])"
   ]
  },
  {
   "cell_type": "code",
   "execution_count": 112,
   "id": "0f29f19c",
   "metadata": {
    "pycharm": {
     "name": "#%%\n"
    }
   },
   "outputs": [
    {
     "name": "stderr",
     "output_type": "stream",
     "text": [
      "/var/folders/9m/vg703zc133bgfz9mcf15mvhm0000gn/T/ipykernel_59090/3213734980.py:1: SettingWithCopyWarning: \n",
      "A value is trying to be set on a copy of a slice from a DataFrame.\n",
      "Try using .loc[row_indexer,col_indexer] = value instead\n",
      "\n",
      "See the caveats in the documentation: https://pandas.pydata.org/pandas-docs/stable/user_guide/indexing.html#returning-a-view-versus-a-copy\n",
      "  new_df['tags'] = new_df['tags'].apply(stem)\n"
     ]
    }
   ],
   "source": [
    "new_df['tags'] = new_df['tags'].apply(stem)"
   ]
  },
  {
   "cell_type": "code",
   "execution_count": 147,
   "id": "25e5e3b7",
   "metadata": {
    "pycharm": {
     "name": "#%%\n"
    }
   },
   "outputs": [
    {
     "name": "stderr",
     "output_type": "stream",
     "text": [
      "/var/folders/9m/vg703zc133bgfz9mcf15mvhm0000gn/T/ipykernel_59090/3588187428.py:1: SettingWithCopyWarning: \n",
      "A value is trying to be set on a copy of a slice from a DataFrame\n",
      "\n",
      "See the caveats in the documentation: https://pandas.pydata.org/pandas-docs/stable/user_guide/indexing.html#returning-a-view-versus-a-copy\n",
      "  new_df.drop_duplicates(subset=['movie_id'], inplace=True)\n"
     ]
    }
   ],
   "source": [
    "new_df.drop_duplicates(subset=['movie_id'], inplace=True)"
   ]
  },
  {
   "cell_type": "code",
   "execution_count": 151,
   "id": "4acae110",
   "metadata": {
    "pycharm": {
     "name": "#%%\n"
    }
   },
   "outputs": [],
   "source": [
    "from sklearn.feature_extraction.text import CountVectorizer\n",
    "\n",
    "cv = CountVectorizer(stop_words='english', ngram_range=(1, 2), max_features=20000)\n",
    "\n",
    "vectors = cv.fit_transform(new_df['tags']).toarray()"
   ]
  },
  {
   "cell_type": "code",
   "execution_count": 152,
   "id": "7751940d",
   "metadata": {
    "pycharm": {
     "name": "#%%\n"
    }
   },
   "outputs": [
    {
     "data": {
      "text/plain": [
       "array(['00', '000', '000 feet', ..., 'zooeydeschanel', 'zookeep',\n",
       "       'zoëkravitz'], dtype=object)"
      ]
     },
     "execution_count": 152,
     "metadata": {},
     "output_type": "execute_result"
    }
   ],
   "source": [
    "cv.get_feature_names_out()"
   ]
  },
  {
   "cell_type": "code",
   "execution_count": 153,
   "id": "6203bf28",
   "metadata": {
    "pycharm": {
     "name": "#%%\n"
    }
   },
   "outputs": [
    {
     "data": {
      "text/plain": [
       "(4800, 4800)"
      ]
     },
     "execution_count": 153,
     "metadata": {},
     "output_type": "execute_result"
    }
   ],
   "source": [
    "from sklearn.metrics.pairwise import cosine_similarity\n",
    "\n",
    "similarity  = cosine_similarity(vectors)\n",
    "similarity.shape"
   ]
  },
  {
   "cell_type": "code",
   "execution_count": 154,
   "id": "e115f5b9",
   "metadata": {
    "pycharm": {
     "name": "#%%\n"
    }
   },
   "outputs": [
    {
     "data": {
      "text/plain": [
       "[(1, 0.9999999999999996),\n",
       " (12, 0.4130434782608695),\n",
       " (199, 0.2761084110913719),\n",
       " (17, 0.21067524290009615),\n",
       " (1660, 0.16912752287293456),\n",
       " (216, 0.16526725762745997),\n",
       " (1075, 0.14953343588376802),\n",
       " (784, 0.1486075233534274),\n",
       " (75, 0.14176897172994188),\n",
       " (3568, 0.13987572123604708),\n",
       " (2131, 0.13620104492139976),\n",
       " (848, 0.1361450296836116),\n",
       " (61, 0.13240678533309402),\n",
       " (187, 0.13107603009779922),\n",
       " (98, 0.1310760300977992),\n",
       " (129, 0.1302579218051672),\n",
       " (979, 0.129011711635535),\n",
       " (1192, 0.12833175058483634),\n",
       " (3329, 0.12801546729290467),\n",
       " (472, 0.1276884796138123),\n",
       " (1723, 0.1264304343560434),\n",
       " (109, 0.1246111965698067),\n",
       " (1267, 0.12387602085230008),\n",
       " (3004, 0.12387602085230008),\n",
       " (583, 0.12364893354703727),\n",
       " (208, 0.12286829679574761),\n",
       " (30, 0.12248698644899796),\n",
       " (2592, 0.12248698644899796),\n",
       " (138, 0.12151626148280732),\n",
       " (340, 0.12038585308576918),\n",
       " (1671, 0.11964954126675388),\n",
       " (1332, 0.11959121830873498),\n",
       " (121, 0.1182165609358651),\n",
       " (94, 0.1180480411624714),\n",
       " (5, 0.11761799222424119),\n",
       " (57, 0.11717498502967605),\n",
       " (329, 0.11717498502967605),\n",
       " (412, 0.11616046389935494),\n",
       " (3351, 0.11616046389935494),\n",
       " (403, 0.11611961267111806),\n",
       " (627, 0.11566298639324805),\n",
       " (3632, 0.11566298639324805),\n",
       " (14, 0.11517184622813065),\n",
       " (330, 0.11517184622813065),\n",
       " (1094, 0.11513282476462602),\n",
       " (167, 0.11375393879832252),\n",
       " (781, 0.11375393879832252),\n",
       " (3965, 0.11350087076783315),\n",
       " (2392, 0.11242343760332196),\n",
       " (1619, 0.11235088294097076),\n",
       " (3698, 0.11235088294097074),\n",
       " (3151, 0.11145564251507056),\n",
       " (4004, 0.11145564251507056),\n",
       " (4210, 0.11145564251507056),\n",
       " (778, 0.11145564251507055),\n",
       " (818, 0.11145564251507054),\n",
       " (91, 0.11113855611859677),\n",
       " (2657, 0.11113855611859677),\n",
       " (10, 0.11058146711617287),\n",
       " (2031, 0.11058146711617287),\n",
       " (46, 0.10989674556596452),\n",
       " (276, 0.10869565217391304),\n",
       " (985, 0.10869565217391304),\n",
       " (3618, 0.10869565217391304),\n",
       " (38, 0.10819281685365759),\n",
       " (1902, 0.108077411149503),\n",
       " (191, 0.10807741114950299),\n",
       " (543, 0.10807741114950299),\n",
       " (3051, 0.10767638041163309),\n",
       " (50, 0.10753309840483508),\n",
       " (1140, 0.10753309840483508),\n",
       " (232, 0.10753309840483506),\n",
       " (2165, 0.10753309840483506),\n",
       " (190, 0.10702313041643276),\n",
       " (104, 0.10640706634484359),\n",
       " (1231, 0.10498884552771254),\n",
       " (24, 0.10425720702853739),\n",
       " (215, 0.10425720702853739),\n",
       " (1711, 0.10425720702853739),\n",
       " (1440, 0.10425720702853737),\n",
       " (322, 0.10323001737691673),\n",
       " (115, 0.10283867552865913),\n",
       " (332, 0.10223260251369135),\n",
       " (1675, 0.10223260251369133),\n",
       " (3494, 0.10223260251369133),\n",
       " (310, 0.10189636042253354),\n",
       " (2293, 0.10114434748483471),\n",
       " (4214, 0.09968895725584535),\n",
       " (1649, 0.09940534656094303),\n",
       " (2102, 0.09890707100936805),\n",
       " (2876, 0.09890707100936805),\n",
       " (773, 0.09829463743659808),\n",
       " (1295, 0.09764582085806336),\n",
       " (618, 0.09710314325264792),\n",
       " (23, 0.09695723311274393),\n",
       " (1145, 0.09695723311274393),\n",
       " (9, 0.09680038658279579),\n",
       " (271, 0.09680038658279579),\n",
       " (812, 0.09652341781316805),\n",
       " (262, 0.09652341781316803),\n",
       " (1647, 0.0959765385234422),\n",
       " (2024, 0.09567297464698798),\n",
       " (19, 0.09539445011233398),\n",
       " (106, 0.09539445011233398),\n",
       " (2837, 0.09517337345336012),\n",
       " (193, 0.0950496913043515),\n",
       " (2116, 0.09443843292997713),\n",
       " (1193, 0.09439004018637939),\n",
       " (1688, 0.09439004018637939),\n",
       " (1874, 0.093772896568909),\n",
       " (7, 0.0936257357841423),\n",
       " (325, 0.09325048082403138),\n",
       " (389, 0.09325048082403138),\n",
       " (1259, 0.09325048082403138),\n",
       " (1422, 0.09325048082403138),\n",
       " (1470, 0.09325048082403138),\n",
       " (1654, 0.09325048082403138),\n",
       " (1880, 0.09325048082403138),\n",
       " (1972, 0.09325048082403138),\n",
       " (379, 0.09306075431858638),\n",
       " (587, 0.09287970209589211),\n",
       " (3373, 0.09267307291425544),\n",
       " (381, 0.09223131928520185),\n",
       " (913, 0.09223131928520185),\n",
       " (3284, 0.09223131928520185),\n",
       " (126, 0.09215122259681072),\n",
       " (1827, 0.09215122259681072),\n",
       " (3367, 0.09215122259681072),\n",
       " (384, 0.09210625981170081),\n",
       " (3828, 0.09210625981170081),\n",
       " (206, 0.09194621406122841),\n",
       " (47, 0.0917341117855138),\n",
       " (22, 0.09100315103865801),\n",
       " (359, 0.09100315103865801),\n",
       " (581, 0.09100315103865801),\n",
       " (960, 0.09100315103865801),\n",
       " (171, 0.09006450929125251),\n",
       " (1146, 0.09006450929125251),\n",
       " (962, 0.0900645092912525),\n",
       " (292, 0.08993875008265757),\n",
       " (3424, 0.08993875008265757),\n",
       " (85, 0.08983222540938544),\n",
       " (2298, 0.08939981748151894),\n",
       " (122, 0.08891084489487741),\n",
       " (331, 0.08874962836170935),\n",
       " (508, 0.08874962836170935),\n",
       " (870, 0.08874962836170935),\n",
       " (66, 0.08811342210628016),\n",
       " (813, 0.08811342210628016),\n",
       " (127, 0.08759357437106757),\n",
       " (3427, 0.08759357437106757),\n",
       " (821, 0.08754104448666038),\n",
       " (48, 0.0874907046064271),\n",
       " (420, 0.0874907046064271),\n",
       " (2366, 0.0874907046064271),\n",
       " (486, 0.08722783759886468),\n",
       " (227, 0.08695652173913043),\n",
       " (1696, 0.08695652173913043),\n",
       " (1216, 0.08688100585711449),\n",
       " (1613, 0.08688100585711449),\n",
       " (3215, 0.08674723979493604),\n",
       " (3374, 0.08674723979493604),\n",
       " (3724, 0.08674723979493604),\n",
       " (3856, 0.08674723979493604),\n",
       " (4491, 0.08674723979493604),\n",
       " (457, 0.08602647872386805),\n",
       " (15, 0.08569889627388262),\n",
       " (1821, 0.0854166817985915),\n",
       " (1304, 0.08512565307587487),\n",
       " (2579, 0.08512565307587487),\n",
       " (2654, 0.08512565307587487),\n",
       " (62, 0.08512565307587486),\n",
       " (3715, 0.08512565307587486),\n",
       " (3775, 0.08512565307587486),\n",
       " (612, 0.08512565307587484),\n",
       " (572, 0.08456376143646728),\n",
       " (597, 0.08425254637422692),\n",
       " (786, 0.08425254637422692),\n",
       " (1941, 0.08425254637422692),\n",
       " (2902, 0.08425254637422692),\n",
       " (3098, 0.08425254637422692),\n",
       " (158, 0.08401285158874369),\n",
       " (234, 0.08401285158874369),\n",
       " (755, 0.083967426956286),\n",
       " (25, 0.08359173188630292),\n",
       " (342, 0.08359173188630292),\n",
       " (537, 0.08359173188630292),\n",
       " (79, 0.08347257041177222),\n",
       " (2900, 0.08347257041177222),\n",
       " (3718, 0.08347257041177222),\n",
       " (3901, 0.08347257041177222),\n",
       " (53, 0.08294258047937003),\n",
       " (694, 0.08294258047937003),\n",
       " (664, 0.08258401390153339),\n",
       " (3755, 0.08258401390153339),\n",
       " (1018, 0.08242255917447337),\n",
       " (3820, 0.08213785172900903),\n",
       " (4605, 0.08213785172900903),\n",
       " (84, 0.08191219786383173),\n",
       " (1392, 0.08191219786383173),\n",
       " (1844, 0.08191219786383173),\n",
       " (72, 0.08178608201095307),\n",
       " (131, 0.08178608201095307),\n",
       " (1361, 0.08178608201095307),\n",
       " (143, 0.0814112011282295),\n",
       " (315, 0.08101084098853821),\n",
       " (349, 0.08101084098853821),\n",
       " (792, 0.08101084098853821),\n",
       " (922, 0.08101084098853821),\n",
       " (972, 0.08101084098853821),\n",
       " (1129, 0.08101084098853821),\n",
       " (3354, 0.08101084098853821),\n",
       " (169, 0.08091928604387327),\n",
       " (1484, 0.08075728530872482),\n",
       " (1765, 0.08075728530872482),\n",
       " (4050, 0.08075728530872482),\n",
       " (4437, 0.08075728530872482),\n",
       " (273, 0.08043618151097337),\n",
       " (654, 0.08043618151097337),\n",
       " (1605, 0.08043618151097337),\n",
       " (26, 0.07952427724875442),\n",
       " (1291, 0.07952427724875442),\n",
       " (3148, 0.07952427724875442),\n",
       " (3154, 0.07949537509361165),\n",
       " (105, 0.07944407119985641),\n",
       " (738, 0.07944407119985641),\n",
       " (241, 0.07881104062391008),\n",
       " (649, 0.07881104062391008),\n",
       " (1360, 0.07881104062391008),\n",
       " (2432, 0.07881104062391008),\n",
       " (2682, 0.07881104062391008),\n",
       " (717, 0.07858682668274143),\n",
       " (209, 0.07819290527140303),\n",
       " (1278, 0.07819290527140303),\n",
       " (2517, 0.07819290527140303),\n",
       " (4284, 0.07819290527140303),\n",
       " (4617, 0.07819290527140303),\n",
       " (222, 0.07814408047409083),\n",
       " (71, 0.0781166566864507),\n",
       " (168, 0.0781166566864507),\n",
       " (973, 0.0781166566864507),\n",
       " (0, 0.07744030926623663),\n",
       " (1715, 0.07744030926623663),\n",
       " (2211, 0.07744030926623663),\n",
       " (1290, 0.07699905035090181),\n",
       " (2757, 0.07699905035090181),\n",
       " (4397, 0.07699905035090181),\n",
       " (361, 0.07678123081875377),\n",
       " (3695, 0.07678123081875377),\n",
       " (136, 0.0761386987626881),\n",
       " (659, 0.0761386987626881),\n",
       " (859, 0.0761386987626881),\n",
       " (3021, 0.0761386987626881),\n",
       " (3095, 0.0761386987626881),\n",
       " (2045, 0.07608695652173914),\n",
       " (1101, 0.07603738308405919),\n",
       " (935, 0.07585826061362604),\n",
       " (971, 0.07585826061362604),\n",
       " (942, 0.07551203214910351),\n",
       " (1621, 0.07551203214910351),\n",
       " (238, 0.07524115817860577),\n",
       " (607, 0.07524115817860577),\n",
       " (369, 0.07490058862731383),\n",
       " (1363, 0.07490058862731383),\n",
       " (263, 0.07476671794188401),\n",
       " (267, 0.07476671794188401),\n",
       " (483, 0.07476671794188401),\n",
       " (695, 0.07476671794188401),\n",
       " (3962, 0.07476671794188401),\n",
       " (4088, 0.07476671794188401),\n",
       " (304, 0.0744849464413905),\n",
       " (1867, 0.0743037616767137),\n",
       " (41, 0.07372097807744857),\n",
       " (97, 0.07372097807744857),\n",
       " (505, 0.07372097807744857),\n",
       " (660, 0.07372097807744857),\n",
       " (1214, 0.07372097807744857),\n",
       " (1260, 0.07372097807744857),\n",
       " (3129, 0.07372097807744857),\n",
       " (3886, 0.07372097807744857),\n",
       " (4301, 0.07372097807744857),\n",
       " (4417, 0.07372097807744857),\n",
       " (4695, 0.07372097807744857),\n",
       " (178, 0.07315169559594552),\n",
       " (1697, 0.07315169559594552),\n",
       " (1782, 0.07315169559594552),\n",
       " (2831, 0.07315169559594552),\n",
       " (3904, 0.07315169559594552),\n",
       " (1674, 0.07299464530922298),\n",
       " (3583, 0.07296484549360703),\n",
       " (1404, 0.07271792483455794),\n",
       " (2558, 0.07271792483455794),\n",
       " (3993, 0.07271792483455794),\n",
       " (4197, 0.07271792483455794),\n",
       " (59, 0.07263943811461808),\n",
       " (2001, 0.07263943811461808),\n",
       " (125, 0.07261785883857189),\n",
       " (419, 0.07259540086406277),\n",
       " (728, 0.07259540086406277),\n",
       " (1297, 0.07259540086406277),\n",
       " (1561, 0.07259540086406277),\n",
       " (2129, 0.07259540086406277),\n",
       " (3642, 0.07259540086406277),\n",
       " (197, 0.07228936649578004),\n",
       " (4042, 0.07228936649578004),\n",
       " (569, 0.072051607433002),\n",
       " (596, 0.072051607433002),\n",
       " (2484, 0.072051607433002),\n",
       " (2816, 0.072051607433002),\n",
       " (3014, 0.072051607433002),\n",
       " (31, 0.07175473098524099),\n",
       " (33, 0.07175473098524099),\n",
       " (35, 0.07175473098524099),\n",
       " (172, 0.07175473098524099),\n",
       " (715, 0.07175473098524099),\n",
       " (2647, 0.07175473098524099),\n",
       " (2928, 0.07175473098524099),\n",
       " (3533, 0.07175473098524099),\n",
       " (3668, 0.07175473098524099),\n",
       " (3851, 0.07175473098524099),\n",
       " (4190, 0.07175473098524099),\n",
       " (32, 0.07151985398521515),\n",
       " (58, 0.07151985398521515),\n",
       " (1035, 0.07151985398521515),\n",
       " (1184, 0.07151985398521515),\n",
       " (1270, 0.07151985398521515),\n",
       " (1973, 0.07151985398521515),\n",
       " (270, 0.07099970268936748),\n",
       " (2848, 0.07099970268936748),\n",
       " (3941, 0.07093804422989572),\n",
       " (159, 0.07082882469748285),\n",
       " (392, 0.07082882469748285),\n",
       " (1002, 0.07082882469748285),\n",
       " (1682, 0.07082882469748285),\n",
       " (2071, 0.07082882469748285),\n",
       " (2224, 0.07082882469748285),\n",
       " (2247, 0.07082882469748285),\n",
       " (827, 0.07049073768502413),\n",
       " (3782, 0.07049073768502413),\n",
       " (3811, 0.07049073768502413),\n",
       " (4331, 0.07049073768502413),\n",
       " (240, 0.06999256368514169),\n",
       " (661, 0.06999256368514169),\n",
       " (758, 0.06999256368514169),\n",
       " (1059, 0.06999256368514169),\n",
       " (1096, 0.06999256368514169),\n",
       " (1934, 0.06999256368514169),\n",
       " (3789, 0.06999256368514169),\n",
       " (391, 0.069972855796905),\n",
       " (2786, 0.069972855796905),\n",
       " (68, 0.06993786061802354),\n",
       " (90, 0.06993786061802354),\n",
       " (220, 0.06993786061802354),\n",
       " (1400, 0.06993786061802354),\n",
       " (1717, 0.06993786061802354),\n",
       " (2527, 0.06993786061802354),\n",
       " (2883, 0.06993786061802354),\n",
       " (2946, 0.06993786061802354),\n",
       " (471, 0.06950480468569159),\n",
       " (746, 0.06950480468569159),\n",
       " (788, 0.06950480468569159),\n",
       " (1588, 0.06950480468569159),\n",
       " (3376, 0.06950480468569159),\n",
       " (3756, 0.06950480468569159),\n",
       " (4558, 0.06950480468569159),\n",
       " (4758, 0.06950480468569159),\n",
       " (150, 0.06935086251510555),\n",
       " (198, 0.0690796948587756),\n",
       " (461, 0.0690796948587756),\n",
       " (511, 0.0690796948587756),\n",
       " (691, 0.0690796948587756),\n",
       " (736, 0.0690796948587756),\n",
       " (1025, 0.0690796948587756),\n",
       " (1045, 0.0690796948587756),\n",
       " (1436, 0.0690796948587756),\n",
       " (160, 0.06904602208326344),\n",
       " (243, 0.06902710277284298),\n",
       " (334, 0.06902710277284298),\n",
       " (425, 0.06902710277284298),\n",
       " (2350, 0.06902710277284298),\n",
       " (43, 0.0685591170191061),\n",
       " (124, 0.0685591170191061),\n",
       " (3305, 0.0685591170191061),\n",
       " (3224, 0.06845640667376339),\n",
       " (81, 0.06844820977417419),\n",
       " (2996, 0.06844820977417419),\n",
       " (260, 0.0682523632789935),\n",
       " (294, 0.0682523632789935),\n",
       " (745, 0.0682523632789935),\n",
       " (1402, 0.0682523632789935),\n",
       " (3318, 0.0682523632789935),\n",
       " (933, 0.06810052246069988),\n",
       " (3170, 0.06810052246069988),\n",
       " (2028, 0.06786566122473789),\n",
       " (13, 0.06765100914917382),\n",
       " (1338, 0.06765100914917382),\n",
       " (2709, 0.06765100914917382),\n",
       " (3591, 0.06765100914917382),\n",
       " (4566, 0.06765100914917382),\n",
       " (1630, 0.06757990980304682),\n",
       " (427, 0.06745406256199318),\n",
       " (1792, 0.06745406256199318),\n",
       " (1981, 0.06745406256199318),\n",
       " (4554, 0.06745406256199318),\n",
       " (1847, 0.06701907097949869),\n",
       " (107, 0.06677805632941777),\n",
       " (836, 0.06677805632941777),\n",
       " (1975, 0.06677805632941777),\n",
       " (117, 0.06668313367115805),\n",
       " (931, 0.06668313367115805),\n",
       " (1823, 0.06668313367115805),\n",
       " (3884, 0.06668313367115805),\n",
       " (4687, 0.06668313367115805),\n",
       " (4775, 0.06668313367115805),\n",
       " (1091, 0.06635406438349603),\n",
       " (1237, 0.06635406438349603),\n",
       " (4445, 0.06635406438349603),\n",
       " (88, 0.0659380473395787),\n",
       " (1032, 0.0659380473395787),\n",
       " (2964, 0.0659380473395787),\n",
       " (3345, 0.0659380473395787),\n",
       " (3403, 0.0659380473395787),\n",
       " (4399, 0.0659380473395787),\n",
       " (1017, 0.06552975829106539),\n",
       " (1448, 0.06552975829106539),\n",
       " (544, 0.06521739130434782),\n",
       " (547, 0.06521739130434782),\n",
       " (764, 0.06521739130434782),\n",
       " (2658, 0.06521739130434782),\n",
       " (2956, 0.06521739130434782),\n",
       " (3133, 0.06521739130434782),\n",
       " (3350, 0.06521739130434782),\n",
       " (1401, 0.0651289609025836),\n",
       " (921, 0.06473542883509861),\n",
       " (1962, 0.06473542883509861),\n",
       " (4683, 0.06473542883509861),\n",
       " (894, 0.06451985904290104),\n",
       " (1709, 0.06451985904290104),\n",
       " (3314, 0.06451985904290104),\n",
       " (3382, 0.06451985904290104),\n",
       " (3897, 0.06451985904290104),\n",
       " (892, 0.0643489452087787),\n",
       " (1248, 0.0643489452087787),\n",
       " (1274, 0.0643489452087787),\n",
       " (2311, 0.0643489452087787),\n",
       " (2884, 0.0643489452087787),\n",
       " (27, 0.06396930210072013),\n",
       " (2400, 0.06396930210072013),\n",
       " (530, 0.06384423980690615),\n",
       " (1235, 0.06384423980690615),\n",
       " (2124, 0.06384423980690615),\n",
       " (2492, 0.06384423980690615),\n",
       " (3466, 0.06384423980690615),\n",
       " (4596, 0.06384423980690615),\n",
       " (1001, 0.06359630007488933),\n",
       " (1779, 0.06359630007488933),\n",
       " (1824, 0.06359630007488933),\n",
       " (1920, 0.06359630007488933),\n",
       " (4523, 0.06351429320638034),\n",
       " (1344, 0.0632297477418679),\n",
       " (1771, 0.0632297477418679),\n",
       " (2025, 0.0632297477418679),\n",
       " (3340, 0.0632297477418679),\n",
       " (152, 0.0631894097806702),\n",
       " (830, 0.0631894097806702),\n",
       " (2822, 0.0631894097806702),\n",
       " (3796, 0.0631894097806702),\n",
       " (102, 0.06286946134619315),\n",
       " (584, 0.06286946134619315),\n",
       " (866, 0.06286946134619315),\n",
       " (3225, 0.06286946134619315),\n",
       " (3848, 0.06286946134619315),\n",
       " (4342, 0.06286946134619315),\n",
       " (4496, 0.06286946134619315),\n",
       " (4731, 0.06286946134619315),\n",
       " (1645, 0.06255432421712243),\n",
       " (1745, 0.06255432421712243),\n",
       " (2679, 0.06255432421712243),\n",
       " (2861, 0.06255432421712243),\n",
       " (3343, 0.06255432421712243),\n",
       " (2345, 0.0625293174904717),\n",
       " (246, 0.06251526437927266),\n",
       " (2800, 0.06251526437927266),\n",
       " (4713, 0.06251526437927266),\n",
       " (1499, 0.062166987216020916),\n",
       " (2748, 0.062166987216020916),\n",
       " (3873, 0.062166987216020916),\n",
       " (8, 0.06193801042615004),\n",
       " (492, 0.06193801042615004),\n",
       " (1013, 0.06193801042615004),\n",
       " (1447, 0.06193801042615004),\n",
       " (1788, 0.06193801042615004),\n",
       " (1971, 0.06193801042615004),\n",
       " (2104, 0.06193801042615004),\n",
       " (3845, 0.06193801042615004),\n",
       " (2664, 0.06186527051799373),\n",
       " (730, 0.061865270517993724),\n",
       " (949, 0.06182446677351863),\n",
       " (1413, 0.06182446677351863),\n",
       " (1809, 0.06182446677351863),\n",
       " (4745, 0.06182446677351863),\n",
       " (307, 0.06164857888717427),\n",
       " (103, 0.06148754619013457),\n",
       " (2544, 0.06148754619013457),\n",
       " (2563, 0.06148754619013457),\n",
       " (3826, 0.06148754619013457),\n",
       " (4376, 0.06148754619013457),\n",
       " (16, 0.061339561508214804),\n",
       " (142, 0.061339561508214804),\n",
       " (2333, 0.061339561508214804),\n",
       " (2769, 0.061339561508214804),\n",
       " (2854, 0.061339561508214804),\n",
       " (3030, 0.061339561508214804),\n",
       " (3696, 0.061339561508214804),\n",
       " (4084, 0.061339561508214804),\n",
       " (4620, 0.061339561508214804),\n",
       " (139, 0.06115607452367586),\n",
       " (286, 0.06082990646724735),\n",
       " (551, 0.06082990646724735),\n",
       " (1236, 0.06082990646724735),\n",
       " (4308, 0.06082990646724735),\n",
       " (52, 0.060758130741403654),\n",
       " (111, 0.060758130741403654),\n",
       " (646, 0.060758130741403654),\n",
       " (805, 0.060758130741403654),\n",
       " (1111, 0.060758130741403654),\n",
       " (2145, 0.060758130741403654),\n",
       " (2532, 0.060758130741403654),\n",
       " (3007, 0.060758130741403654),\n",
       " (3162, 0.060758130741403654),\n",
       " (3316, 0.060758130741403654),\n",
       " (3336, 0.060758130741403654),\n",
       " (3497, 0.060758130741403654),\n",
       " (4310, 0.060758130741403654),\n",
       " (4123, 0.06059827069546495),\n",
       " (1280, 0.06050890208160516),\n",
       " (4705, 0.06050890208160516),\n",
       " (189, 0.06019292654288461),\n",
       " (1858, 0.06019292654288461),\n",
       " (2270, 0.06019292654288461),\n",
       " (3836, 0.06019292654288461),\n",
       " (4730, 0.06019292654288461),\n",
       " (207, 0.0601929265428846),\n",
       " (549, 0.0601929265428846),\n",
       " (731, 0.0601929265428846),\n",
       " (1194, 0.0601929265428846),\n",
       " (1519, 0.0601929265428846),\n",
       " (1604, 0.0601929265428846),\n",
       " (1710, 0.0601929265428846),\n",
       " (1978, 0.0601929265428846),\n",
       " (2446, 0.0601929265428846),\n",
       " (3679, 0.0601929265428846),\n",
       " (242, 0.059643207936565815),\n",
       " (651, 0.059643207936565815),\n",
       " (1610, 0.059643207936565815),\n",
       " (1956, 0.059643207936565815),\n",
       " (2068, 0.059643207936565815),\n",
       " (2139, 0.059643207936565815),\n",
       " (2220, 0.059643207936565815),\n",
       " (2249, 0.059643207936565815),\n",
       " (3660, 0.059643207936565815),\n",
       " (4181, 0.059643207936565815),\n",
       " (1133, 0.05927389659658494),\n",
       " (4606, 0.05927389659658494),\n",
       " (610, 0.05921411453740407),\n",
       " (36, 0.05910828046793255),\n",
       " (485, 0.05910828046793255),\n",
       " (716, 0.05910828046793255),\n",
       " (793, 0.05910828046793255),\n",
       " (2159, 0.05910828046793255),\n",
       " (2177, 0.05910828046793255),\n",
       " (2761, 0.05910828046793255),\n",
       " (2920, 0.05910828046793255),\n",
       " (2980, 0.05910828046793255),\n",
       " (3362, 0.05910828046793255),\n",
       " (3597, 0.05910828046793255),\n",
       " (4502, 0.05910828046793255),\n",
       " (1137, 0.05897678246195886),\n",
       " (1766, 0.05897678246195886),\n",
       " (40, 0.058587492514838024),\n",
       " (312, 0.058587492514838024),\n",
       " (480, 0.058587492514838024),\n",
       " (643, 0.058587492514838024),\n",
       " (1979, 0.058587492514838024),\n",
       " (2378, 0.058587492514838024),\n",
       " (3829, 0.058587492514838024),\n",
       " (4330, 0.058587492514838024),\n",
       " (4628, 0.058587492514838024),\n",
       " (469, 0.05839571624737838),\n",
       " (1525, 0.05839571624737838),\n",
       " (785, 0.05811155049169446),\n",
       " (503, 0.05808023194967747),\n",
       " (794, 0.05808023194967747),\n",
       " (1323, 0.05808023194967747),\n",
       " (1608, 0.05808023194967747),\n",
       " (2488, 0.05808023194967747),\n",
       " (2613, 0.05808023194967747),\n",
       " (3436, 0.05808023194967747),\n",
       " (374, 0.05783149319662403),\n",
       " (776, 0.05783149319662403),\n",
       " (993, 0.05783149319662403),\n",
       " (1172, 0.05783149319662403),\n",
       " (1516, 0.05783149319662403),\n",
       " (2365, 0.05783149319662403),\n",
       " (2476, 0.05783149319662403),\n",
       " (2670, 0.05783149319662403),\n",
       " (4562, 0.05783149319662403),\n",
       " (96, 0.057585923114065324),\n",
       " (341, 0.057585923114065324),\n",
       " (711, 0.057585923114065324),\n",
       " (869, 0.057585923114065324),\n",
       " (898, 0.057585923114065324),\n",
       " (1116, 0.057585923114065324),\n",
       " (1742, 0.057585923114065324),\n",
       " (2005, 0.057585923114065324),\n",
       " (2052, 0.057585923114065324),\n",
       " (2824, 0.057585923114065324),\n",
       " (2984, 0.057585923114065324),\n",
       " (3868, 0.057585923114065324),\n",
       " (3929, 0.057585923114065324),\n",
       " (939, 0.057283315012620475),\n",
       " (1548, 0.057283315012620475),\n",
       " (74, 0.05710402407201608),\n",
       " (658, 0.05710402407201608),\n",
       " (1208, 0.05710402407201608),\n",
       " (1531, 0.05710402407201608),\n",
       " (2348, 0.05710402407201608),\n",
       " (3087, 0.05710402407201608),\n",
       " (3713, 0.05710402407201608),\n",
       " (2594, 0.057015007612483966),\n",
       " (850, 0.056750435383916574),\n",
       " (1460, 0.056750435383916574),\n",
       " (1571, 0.056750435383916574),\n",
       " (1669, 0.056750435383916574),\n",
       " (2331, 0.056750435383916574),\n",
       " (2636, 0.056750435383916574),\n",
       " (4125, 0.056750435383916574),\n",
       " (4536, 0.056750435383916574),\n",
       " (20, 0.05670844467496044),\n",
       " (841, 0.056634024111827636),\n",
       " (959, 0.056634024111827636),\n",
       " (2697, 0.056634024111827636),\n",
       " (3385, 0.056634024111827636),\n",
       " (3418, 0.056634024111827636),\n",
       " (4142, 0.056634024111827636),\n",
       " (697, 0.056489512459833996),\n",
       " (4, 0.05617544147048537),\n",
       " (164, 0.05617544147048537),\n",
       " (174, 0.05617544147048537),\n",
       " (782, 0.05617544147048537),\n",
       " (835, 0.05617544147048537),\n",
       " (1966, 0.05617544147048537),\n",
       " (2341, 0.05617544147048537),\n",
       " (2969, 0.05617544147048537),\n",
       " (3471, 0.05617544147048537),\n",
       " (4281, 0.05617544147048537),\n",
       " (4701, 0.05617544147048537),\n",
       " (183, 0.055978284637524),\n",
       " (2111, 0.055978284637524),\n",
       " (162, 0.05572782125753528),\n",
       " (466, 0.05572782125753528),\n",
       " (1008, 0.05572782125753528),\n",
       " (1417, 0.05572782125753528),\n",
       " (1617, 0.05572782125753528),\n",
       " (2110, 0.05572782125753528),\n",
       " (2639, 0.05572782125753528),\n",
       " (3068, 0.05572782125753528),\n",
       " (3092, 0.05572782125753528),\n",
       " (3137, 0.05572782125753528),\n",
       " (3523, 0.05572782125753528),\n",
       " (4635, 0.05572782125753528),\n",
       " (86, 0.05572782125753527),\n",
       " (101, 0.05572782125753527),\n",
       " (411, 0.05572782125753527),\n",
       " (1586, 0.05572782125753527),\n",
       " (3474, 0.05572782125753527),\n",
       " (3607, 0.05572782125753527),\n",
       " (3626, 0.05572782125753527),\n",
       " (3726, 0.055480690012084444),\n",
       " (339, 0.055290733558086426),\n",
       " (602, 0.055290733558086426),\n",
       " (724, 0.055290733558086426),\n",
       " (1107, 0.055290733558086426),\n",
       " (2207, 0.055290733558086426),\n",
       " (2688, 0.055290733558086426),\n",
       " (3534, 0.055290733558086426),\n",
       " (3837, 0.055290733558086426),\n",
       " (893, 0.05523681766661075),\n",
       " (488, 0.05499613322031965),\n",
       " (514, 0.054863771696959135),\n",
       " (1007, 0.054863771696959135),\n",
       " (1125, 0.054863771696959135),\n",
       " (1518, 0.054863771696959135),\n",
       " (1652, 0.054863771696959135),\n",
       " (1796, 0.054863771696959135),\n",
       " (2241, 0.054863771696959135),\n",
       " (2827, 0.054863771696959135),\n",
       " (3689, 0.05479637146058319),\n",
       " (151, 0.054758567819339354),\n",
       " (205, 0.054758567819339354),\n",
       " (426, 0.054758567819339354),\n",
       " (490, 0.054758567819339354),\n",
       " (1321, 0.054758567819339354),\n",
       " (1549, 0.054758567819339354),\n",
       " (2711, 0.054758567819339354),\n",
       " (2995, 0.054758567819339354),\n",
       " (4384, 0.054758567819339354),\n",
       " (803, 0.05444655064804708),\n",
       " (1196, 0.05444655064804708),\n",
       " (1628, 0.05444655064804708),\n",
       " (2912, 0.05444655064804708),\n",
       " (657, 0.05406392784243746),\n",
       " (11, 0.0540387055747515),\n",
       " (467, 0.0540387055747515),\n",
       " (636, 0.0540387055747515),\n",
       " (665, 0.0540387055747515),\n",
       " (55, 0.053838190205816545),\n",
       " (233, 0.053838190205816545),\n",
       " (808, 0.053838190205816545),\n",
       " (1109, 0.053838190205816545),\n",
       " (1497, 0.053838190205816545),\n",
       " (2208, 0.053838190205816545),\n",
       " (2444, 0.053838190205816545),\n",
       " (2580, 0.053838190205816545),\n",
       " (3073, 0.053838190205816545),\n",
       " (407, 0.053639890488911365),\n",
       " (992, 0.053639890488911365),\n",
       " (1202, 0.053639890488911365),\n",
       " (1441, 0.053639890488911365),\n",
       " (2239, 0.053639890488911365),\n",
       " (3405, 0.053639890488911365),\n",
       " (4421, 0.053639890488911365),\n",
       " (509, 0.05324977701702561),\n",
       " (734, 0.05324977701702561),\n",
       " (932, 0.05324977701702561),\n",
       " (1115, 0.05324977701702561),\n",
       " (1365, 0.05324977701702561),\n",
       " (3536, 0.05324977701702561),\n",
       " (1473, 0.05317757389633507),\n",
       " (157, 0.05296271413323761),\n",
       " (336, 0.05296271413323761),\n",
       " (498, 0.05296271413323761),\n",
       " (624, 0.05296271413323761),\n",
       " (791, 0.05296271413323761),\n",
       " (1325, 0.05296271413323761),\n",
       " (1425, 0.05296271413323761),\n",
       " (1520, 0.05296271413323761),\n",
       " (2374, 0.05296271413323761),\n",
       " (2554, 0.05296271413323761),\n",
       " (3661, 0.05296271413323761),\n",
       " (3966, 0.05296271413323761),\n",
       " (4639, 0.05296271413323761),\n",
       " (722, 0.0528680532637681),\n",
       " (1144, 0.0528680532637681),\n",
       " (1508, 0.0528680532637681),\n",
       " (3251, 0.0528680532637681),\n",
       " (3472, 0.0528680532637681),\n",
       " (4378, 0.0528680532637681),\n",
       " (3631, 0.052868053263768096),\n",
       " (305, 0.05249442276385627),\n",
       " (475, 0.05249442276385627),\n",
       " (1414, 0.05249442276385627),\n",
       " (3998, 0.05249442276385627),\n",
       " (83, 0.05212860351426869),\n",
       " (228, 0.05212860351426869),\n",
       " (566, 0.05212860351426869),\n",
       " (1279, 0.05212860351426869),\n",
       " (2676, 0.05212860351426869),\n",
       " (3204, 0.05212860351426869),\n",
       " (3549, 0.05212860351426869),\n",
       " (4337, 0.05212860351426869),\n",
       " (56, 0.052128603514268686),\n",
       " (487, 0.052128603514268686),\n",
       " (783, 0.052128603514268686),\n",
       " (951, 0.052128603514268686),\n",
       " (1083, 0.052128603514268686),\n",
       " (1396, 0.052128603514268686),\n",
       " (1703, 0.052128603514268686),\n",
       " (1938, 0.052128603514268686),\n",
       " (2319, 0.052128603514268686),\n",
       " (2862, 0.052128603514268686),\n",
       " (3563, 0.052128603514268686),\n",
       " (3833, 0.052128603514268686),\n",
       " (4129, 0.052128603514268686),\n",
       " (4186, 0.052128603514268686),\n",
       " (4355, 0.052128603514268686),\n",
       " (114, 0.051770327079632236),\n",
       " (410, 0.051770327079632236),\n",
       " (1190, 0.051770327079632236),\n",
       " (1533, 0.051770327079632236),\n",
       " (2260, 0.051770327079632236),\n",
       " (2516, 0.051770327079632236),\n",
       " (4601, 0.051770327079632236),\n",
       " (4156, 0.05172606001118718),\n",
       " (983, 0.051528254085829006),\n",
       " (69, 0.051488964523054986),\n",
       " (1876, 0.05141933776432957),\n",
       " (2091, 0.05141933776432957),\n",
       " (2469, 0.05141933776432957),\n",
       " (2537, 0.05141933776432957),\n",
       " (2767, 0.05141933776432957),\n",
       " (800, 0.05133270023393454),\n",
       " (1472, 0.05133270023393454),\n",
       " (2305, 0.05133270023393454),\n",
       " (2427, 0.05133270023393454),\n",
       " (2878, 0.05133270023393454),\n",
       " (2935, 0.05133270023393454),\n",
       " (4019, 0.05133270023393454),\n",
       " (4410, 0.05133270023393454),\n",
       " (383, 0.05107539184552491),\n",
       " (507, 0.05107539184552491),\n",
       " (2199, 0.05107539184552491),\n",
       " (170, 0.05073825686188037),\n",
       " (181, 0.05073825686188037),\n",
       " (1912, 0.05073825686188037),\n",
       " (2756, 0.05073825686188037),\n",
       " (495, 0.050572173742417355),\n",
       " (546, 0.050572173742417355),\n",
       " (604, 0.050572173742417355),\n",
       " (707, 0.050572173742417355),\n",
       " (1590, 0.050572173742417355),\n",
       " (3408, 0.050572173742417355),\n",
       " (4093, 0.050572173742417355),\n",
       " (4727, 0.050572173742417355),\n",
       " (132, 0.05040771095324622),\n",
       " (443, 0.05040771095324622),\n",
       " (1879, 0.05040771095324622),\n",
       " (2316, 0.05040771095324622),\n",
       " (2974, 0.05040771095324622),\n",
       " (45, 0.05008354224706333),\n",
       " (63, 0.05008354224706333),\n",
       " (182, 0.05008354224706333),\n",
       " (217, 0.05008354224706333),\n",
       " (591, 0.05008354224706333),\n",
       " (1731, 0.05008354224706333),\n",
       " (1747, 0.05008354224706333),\n",
       " (4201, 0.05008354224706333),\n",
       " (134, 0.04984447862792268),\n",
       " (290, 0.04984447862792268),\n",
       " (858, 0.04984447862792268),\n",
       " (1406, 0.04984447862792268),\n",
       " (2402, 0.04984447862792268),\n",
       " (2560, 0.04984447862792268),\n",
       " (4055, 0.04984447862792268),\n",
       " (4192, 0.04984447862792268),\n",
       " (113, 0.049453535504684024),\n",
       " (386, 0.049453535504684024),\n",
       " (640, 0.049453535504684024),\n",
       " (1303, 0.049453535504684024),\n",
       " (1557, 0.049453535504684024),\n",
       " (1635, 0.049453535504684024),\n",
       " (2169, 0.049453535504684024),\n",
       " (4045, 0.049453535504684024),\n",
       " (4231, 0.049453535504684024),\n",
       " (148, 0.04914731871829904),\n",
       " (219, 0.04914731871829904),\n",
       " (249, 0.04914731871829904),\n",
       " (309, 0.04914731871829904),\n",
       " (686, 0.04914731871829904),\n",
       " (733, 0.04914731871829904),\n",
       " (769, 0.04914731871829904),\n",
       " (987, 0.04914731871829904),\n",
       " (1047, 0.04914731871829904),\n",
       " (1074, 0.04914731871829904),\n",
       " (1419, 0.04914731871829904),\n",
       " (1708, 0.04914731871829904),\n",
       " (2122, 0.04914731871829904),\n",
       " (2209, 0.04914731871829904),\n",
       " (2758, 0.04914731871829904),\n",
       " (2908, 0.04914731871829904),\n",
       " (3267, 0.04914731871829904),\n",
       " (3282, 0.04914731871829904),\n",
       " (3617, 0.04914731871829904),\n",
       " (3835, 0.04914731871829904),\n",
       " (4226, 0.04914731871829904),\n",
       " (4349, 0.04914731871829904),\n",
       " (4447, 0.04914731871829904),\n",
       " (4503, 0.04914731871829904),\n",
       " (4560, 0.04914731871829904),\n",
       " (4697, 0.04914731871829904),\n",
       " (645, 0.048846720676937704),\n",
       " (1036, 0.048846720676937704),\n",
       " (2158, 0.048846720676937704),\n",
       " (2418, 0.048846720676937704),\n",
       " (92, 0.04855157162632396),\n",
       " (448, 0.04855157162632396),\n",
       " (770, 0.04855157162632396),\n",
       " (1009, 0.04855157162632396),\n",
       " (3089, 0.04855157162632396),\n",
       " (4580, 0.04855157162632396),\n",
       " (435, 0.048478616556371965),\n",
       " (668, 0.048478616556371965),\n",
       " (678, 0.048478616556371965),\n",
       " (920, 0.048478616556371965),\n",
       " (978, 0.048478616556371965),\n",
       " (2575, 0.048478616556371965),\n",
       " (2686, 0.048478616556371965),\n",
       " (3333, 0.048478616556371965),\n",
       " (4012, 0.048478616556371965),\n",
       " (4449, 0.048478616556371965),\n",
       " (145, 0.04826170890658402),\n",
       " (565, 0.04826170890658402),\n",
       " (925, 0.04826170890658402),\n",
       " (1200, 0.04826170890658402),\n",
       " (2772, 0.04826170890658402),\n",
       " (4352, 0.04826170890658402),\n",
       " (592, 0.0479769765755401),\n",
       " (777, 0.0479769765755401),\n",
       " (864, 0.0479769765755401),\n",
       " (1492, 0.0479769765755401),\n",
       " (1894, 0.0479769765755401),\n",
       " (3415, 0.0479769765755401),\n",
       " (368, 0.04783648732349399),\n",
       " (903, 0.04783648732349399),\n",
       " (957, 0.04783648732349399),\n",
       " (1249, 0.04783648732349399),\n",
       " (1273, 0.04783648732349399),\n",
       " (1369, 0.04783648732349399),\n",
       " (1601, 0.04783648732349399),\n",
       " (1801, 0.04783648732349399),\n",
       " (1856, 0.04783648732349399),\n",
       " (2063, 0.04783648732349399),\n",
       " (2086, 0.04783648732349399),\n",
       " (2714, 0.04783648732349399),\n",
       " (3082, 0.04783648732349399),\n",
       " (4250, 0.04783648732349399),\n",
       " (1475, 0.047697225056167),\n",
       " (2358, 0.047697225056167),\n",
       " (2788, 0.047697225056167),\n",
       " (2967, 0.047697225056167),\n",
       " (3825, 0.047697225056167),\n",
       " (809, 0.04742231080640093),\n",
       " (1599, 0.04742231080640093),\n",
       " (2, 0.04721921646498856),\n",
       " (259, 0.04721921646498856),\n",
       " (356, 0.04721921646498856),\n",
       " (358, 0.04721921646498856),\n",
       " (742, 0.04721921646498856),\n",
       " (1090, 0.04721921646498856),\n",
       " (1135, 0.04721921646498856),\n",
       " (1257, 0.04721921646498856),\n",
       " (1799, 0.04721921646498856),\n",
       " (4663, 0.04721921646498856),\n",
       " (4670, 0.04721921646498856),\n",
       " (1883, 0.04715209600964486),\n",
       " (2019, 0.04715209600964486),\n",
       " (2435, 0.04715209600964486),\n",
       " (2856, 0.04715209600964486),\n",
       " (4781, 0.04715209600964486),\n",
       " (4145, 0.04691940888485881),\n",
       " (501, 0.04688644828445449),\n",
       " (1567, 0.04688644828445449),\n",
       " (1853, 0.04688644828445449),\n",
       " (2359, 0.04688644828445449),\n",
       " (226, 0.04662524041201569),\n",
       " (1156, 0.04662524041201569),\n",
       " (1476, 0.04662524041201569),\n",
       " (1829, 0.04662524041201569),\n",
       " (2616, 0.04662524041201569),\n",
       " (3081, 0.04662524041201569),\n",
       " (4516, 0.04662524041201569),\n",
       " (149, 0.046625240412015684),\n",
       " (299, 0.046625240412015684),\n",
       " (747, 0.046625240412015684),\n",
       " (1359, 0.046625240412015684),\n",
       " (1572, 0.046625240412015684),\n",
       " (2545, 0.046625240412015684),\n",
       " (4460, 0.046625240412015684),\n",
       " (478, 0.046368350080138974),\n",
       " (3437, 0.046368350080138974),\n",
       " (153, 0.04611565964260093),\n",
       " (950, 0.04611565964260093),\n",
       " (990, 0.04611565964260093),\n",
       " (2505, 0.04611565964260093),\n",
       " (2896, 0.04611565964260093),\n",
       " (4174, 0.04611565964260093),\n",
       " (943, 0.04605312990585041),\n",
       " (1077, 0.04605312990585041),\n",
       " (1105, 0.04605312990585041),\n",
       " (1272, 0.04605312990585041),\n",
       " (1734, 0.04605312990585041),\n",
       " (1839, 0.04605312990585041),\n",
       " (1915, 0.04605312990585041),\n",
       " (2141, 0.04605312990585041),\n",
       " (2528, 0.04605312990585041),\n",
       " (2632, 0.04605312990585041),\n",
       " (2850, 0.04605312990585041),\n",
       " (2864, 0.04605312990585041),\n",
       " (3717, 0.04605312990585041),\n",
       " (3854, 0.04605312990585041),\n",
       " (4341, 0.04605312990585041),\n",
       " (4479, 0.04605312990585041),\n",
       " (3456, 0.04586705589275689),\n",
       " (4148, 0.04586705589275689),\n",
       " (1189, 0.04562242985043551),\n",
       " (1551, 0.04562242985043551),\n",
       " (3485, 0.04562242985043551),\n",
       " (3694, 0.04562242985043551),\n",
       " (4071, 0.04562242985043551),\n",
       " (133, 0.045501575519329006),\n",
       " ...]"
      ]
     },
     "execution_count": 154,
     "metadata": {},
     "output_type": "execute_result"
    }
   ],
   "source": [
    "sorted(list(enumerate(similarity[1])), reverse=True, key=lambda x: x[1])"
   ]
  },
  {
   "cell_type": "code",
   "execution_count": 155,
   "id": "fd25a219",
   "metadata": {
    "pycharm": {
     "name": "#%%\n"
    }
   },
   "outputs": [],
   "source": [
    "def recommend(movie):\n",
    "    movie_index = new_df[new_df['title']== movie].index[0]\n",
    "    distances = similarity[movie_index]\n",
    "    movie_list = sorted(list(enumerate(distances)), reverse=True, key=lambda x: x[1])[1:10]\n",
    "    return [new_df.iloc[mv[0]].title for mv in movie_list]"
   ]
  },
  {
   "cell_type": "code",
   "execution_count": 156,
   "id": "30e88265",
   "metadata": {
    "pycharm": {
     "name": "#%%\n"
    }
   },
   "outputs": [
    {
     "data": {
      "text/plain": [
       "['The Dark Knight',\n",
       " 'The Dark Knight Rises',\n",
       " '10th & Wolf',\n",
       " 'Batman v Superman: Dawn of Justice',\n",
       " 'Batman',\n",
       " 'Synecdoche, New York',\n",
       " \"Gangster's Paradise: Jerusalema\",\n",
       " 'Batman Returns',\n",
       " 'Batman']"
      ]
     },
     "execution_count": 156,
     "metadata": {},
     "output_type": "execute_result"
    }
   ],
   "source": [
    "recommend(\"Batman Begins\")"
   ]
  },
  {
   "cell_type": "code",
   "execution_count": 157,
   "id": "480a693a",
   "metadata": {
    "pycharm": {
     "name": "#%%\n"
    }
   },
   "outputs": [],
   "source": [
    "import pickle"
   ]
  },
  {
   "cell_type": "code",
   "execution_count": 158,
   "id": "062a531b",
   "metadata": {
    "pycharm": {
     "name": "#%%\n"
    }
   },
   "outputs": [],
   "source": [
    "pickle.dump(new_df.to_dict(), open('data/movies.pkl', 'wb'))"
   ]
  },
  {
   "cell_type": "code",
   "execution_count": 159,
   "id": "41aea1d6",
   "metadata": {
    "pycharm": {
     "name": "#%%\n"
    }
   },
   "outputs": [],
   "source": [
    "pickle.dump(similarity, open('data/similarity.pkl', 'wb'))"
   ]
  },
  {
   "cell_type": "code",
   "execution_count": 160,
   "id": "0dadb54a",
   "metadata": {
    "pycharm": {
     "name": "#%%\n"
    }
   },
   "outputs": [
    {
     "data": {
      "text/plain": [
       "0"
      ]
     },
     "execution_count": 160,
     "metadata": {},
     "output_type": "execute_result"
    }
   ],
   "source": [
    "new_df.duplicated(subset=['movie_id']).sum()"
   ]
  },
  {
   "cell_type": "code",
   "execution_count": 161,
   "id": "826aa45a",
   "metadata": {
    "pycharm": {
     "name": "#%%\n"
    }
   },
   "outputs": [
    {
     "data": {
      "text/html": [
       "<div>\n",
       "<style scoped>\n",
       "    .dataframe tbody tr th:only-of-type {\n",
       "        vertical-align: middle;\n",
       "    }\n",
       "\n",
       "    .dataframe tbody tr th {\n",
       "        vertical-align: top;\n",
       "    }\n",
       "\n",
       "    .dataframe thead th {\n",
       "        text-align: right;\n",
       "    }\n",
       "</style>\n",
       "<table border=\"1\" class=\"dataframe\">\n",
       "  <thead>\n",
       "    <tr style=\"text-align: right;\">\n",
       "      <th></th>\n",
       "      <th>movie_id</th>\n",
       "      <th>title</th>\n",
       "      <th>tags</th>\n",
       "    </tr>\n",
       "  </thead>\n",
       "  <tbody>\n",
       "    <tr>\n",
       "      <th>972</th>\n",
       "      <td>72710</td>\n",
       "      <td>The Host</td>\n",
       "      <td>a parasit alien soul is inject into the bodi o...</td>\n",
       "    </tr>\n",
       "    <tr>\n",
       "      <th>973</th>\n",
       "      <td>1255</td>\n",
       "      <td>The Host</td>\n",
       "      <td>a parasit alien soul is inject into the bodi o...</td>\n",
       "    </tr>\n",
       "  </tbody>\n",
       "</table>\n",
       "</div>"
      ],
      "text/plain": [
       "     movie_id     title                                               tags\n",
       "972     72710  The Host  a parasit alien soul is inject into the bodi o...\n",
       "973      1255  The Host  a parasit alien soul is inject into the bodi o..."
      ]
     },
     "execution_count": 161,
     "metadata": {},
     "output_type": "execute_result"
    }
   ],
   "source": [
    "new_df[new_df[\"title\"]==\"The Host\"]"
   ]
  },
  {
   "cell_type": "code",
   "execution_count": null,
   "id": "3e1c697d",
   "metadata": {
    "pycharm": {
     "name": "#%%\n"
    }
   },
   "outputs": [],
   "source": []
  }
 ],
 "metadata": {
  "kernelspec": {
   "display_name": "Python 3 (ipykernel)",
   "language": "python",
   "name": "python3"
  },
  "language_info": {
   "codemirror_mode": {
    "name": "ipython",
    "version": 3
   },
   "file_extension": ".py",
   "mimetype": "text/x-python",
   "name": "python",
   "nbconvert_exporter": "python",
   "pygments_lexer": "ipython3",
   "version": "3.10.4"
  }
 },
 "nbformat": 4,
 "nbformat_minor": 5
}